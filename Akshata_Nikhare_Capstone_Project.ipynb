{
  "cells": [
    {
      "cell_type": "markdown",
      "metadata": {
        "id": "vmT4dj-wzNjA"
      },
      "source": [
        "# **CAPSTONE PROJECT ON ANALYZING EVOLUTION OF THE OLYMPICS**"
      ]
    },
    {
      "cell_type": "markdown",
      "metadata": {
        "id": "4ZNwc_zLxvjK"
      },
      "source": [
        "##**INTRODUCTION**:-\n",
        "\n",
        "Olympic Games are one of the main international event and also a matter of\n",
        "prestige for countries and therefore each country tries to give their best performance during the\n",
        "event. Despite a lot of hard work, many countries/player are unable to perform well during\n",
        "the events and grab medals whereas there are many countries which performs very well in the\n",
        "event and secures many medals.\n",
        "\n",
        "An Analysis need to be done by each country to evaluate the\n",
        "previous statistics which will detect the mistakes which they have done previously and will also\n",
        "help them in future development. \n",
        "\n",
        "An analysis can also be done by the host country to find\n",
        "out the mistakes in the arrangements of the Event which will help them in overcoming these\n",
        "mistakes and host the event accurately. \n",
        "\n",
        "The primary objective is to\n",
        "analyze the large Olympic dataset using Data Analysis to evaluate the evolution\n",
        "of Olympic Games over the years. This analysis will provide detailed and accurate information\n",
        "regarding various factors which leads to the evolution of Olympic Games and improvement of\n",
        "Countries/Players over the time in visual format. \n",
        "\n",
        "Visualization of the data over various factors\n",
        "will provide us with the statistical view of the various factors which leads to the evolution of the\n",
        "Olympic Games and Improvement in performance of various Countries/Players over the time."
      ]
    },
    {
      "cell_type": "markdown",
      "metadata": {
        "id": "Hnt_nOMEyYKt"
      },
      "source": [
        "There are various scenarios which comes in our mind when we look into Evolution of Olympic\n",
        "Games over the years. These scenarios are: Increase in number of participating nations, Increase\n",
        "in number of participating Athletes, Increase/Decrease in number of events, Increase in the\n",
        "expenditure cost of the event, improvement in performance of particular country, improvement\n",
        "in performance of a particular player, analysis over these scenarios would depict the\n",
        "evolution of the Olympics over the years. "
      ]
    },
    {
      "cell_type": "markdown",
      "metadata": {
        "id": "w4gqvnZdx6lF"
      },
      "source": [
        "### **Using PYTHON and DATA STRUCTURE:-**"
      ]
    },
    {
      "cell_type": "markdown",
      "metadata": {
        "id": "mSVBkMZyS3nF"
      },
      "source": [
        "**1-Please do the basic exploration of the data. Remember the dataset contains information from different years. So whatever steps you perform should make logical sense.**"
      ]
    },
    {
      "cell_type": "code",
      "execution_count": 107,
      "metadata": {
        "colab": {
          "base_uri": "https://localhost:8080/"
        },
        "id": "nWkC2T-HSwDx",
        "outputId": "8b77847a-4eb0-4294-aa90-5d8109ee41a7"
      },
      "outputs": [
        {
          "output_type": "stream",
          "name": "stdout",
          "text": [
            "<class 'pandas.core.frame.DataFrame'>\n",
            "RangeIndex: 8618 entries, 0 to 8617\n",
            "Data columns (total 10 columns):\n",
            " #   Column        Non-Null Count  Dtype  \n",
            "---  ------        --------------  -----  \n",
            " 0   name          8613 non-null   object \n",
            " 1   age           8613 non-null   float64\n",
            " 2   country       8618 non-null   object \n",
            " 3   year          8618 non-null   int64  \n",
            " 4   Date_Given    8618 non-null   object \n",
            " 5   sports        8618 non-null   object \n",
            " 6   gold_medal    8618 non-null   int64  \n",
            " 7   silver_medal  8618 non-null   int64  \n",
            " 8   brone_medal   8618 non-null   int64  \n",
            " 9   total_medal   8618 non-null   int64  \n",
            "dtypes: float64(1), int64(5), object(4)\n",
            "memory usage: 673.4+ KB\n"
          ]
        }
      ],
      "source": [
        "#Importing libraries to perform numerical tasks and to plot graphs.\n",
        "\n",
        "import pandas as pd\n",
        "import numpy as np\n",
        "from matplotlib import pyplot as plt\n",
        "import seaborn as sns\n",
        "\n",
        "\n",
        "df = pd.read_csv('/content/olympix_data_organized_with_header (1) (1).csv') #reading the csv file\n",
        "df.info() #to get the datatypes of the Columns.\n",
        "\n"
      ]
    },
    {
      "cell_type": "markdown",
      "metadata": {
        "id": "wX--rDx13N3i"
      },
      "source": [
        "From above, we have successfully load the file to get all raw data.\n",
        "\n",
        "We can see there are 10 attributes and 8618 variables. Lets check the variable details and its statistical datatypes.\n",
        "\n",
        "1. Name :- Its is the name of the Athlete( Catagorical Data)\n",
        "2. Age :- Age of the Athlete.(Numerical Data)\n",
        "3. Country :- Name of the country for which the Athlete is representing(categorical data)\n",
        "4.year :- Olympic game year.(Numerical Data)\n",
        "5. Date_given :- The date when he/she received the medal(Numerical Data)\n",
        "6.Sports:- Sports/games athlete plays for(Categorical Data)\n",
        "7. Gold_medal- Gold Medal won by Athlete(Numerical Data)\n",
        "8. Silver_medal - Silver Medal won by Athlete(Numerical Data)\n",
        "9. Brone Medal :-Brone Medal won by Athlete(Numerical Data)\n",
        "10.Total_medal :- Total medal, sum of gold, silver, brone medal(Numerical Data)\n",
        "\n",
        "From above, we can see how the Python is reading the datatypes. \n",
        "We can conclude that all the datatypes has been read correctly except for Date_given which should be in integer/datetime. \n",
        "\n",
        "We have get that changed in next code."
      ]
    },
    {
      "cell_type": "code",
      "execution_count": 108,
      "metadata": {
        "id": "3TIkRd1ipP5K"
      },
      "outputs": [],
      "source": [
        "df['year'] = pd.to_datetime(df['year']) #Changing the datatype of year column."
      ]
    },
    {
      "cell_type": "code",
      "execution_count": 109,
      "metadata": {
        "colab": {
          "base_uri": "https://localhost:8080/"
        },
        "id": "yxuTHZGniBsS",
        "outputId": "94b6625e-ee13-44a8-b166-58ea4122ca70"
      },
      "outputs": [
        {
          "output_type": "stream",
          "name": "stdout",
          "text": [
            "<class 'pandas.core.frame.DataFrame'>\n",
            "RangeIndex: 8618 entries, 0 to 8617\n",
            "Data columns (total 10 columns):\n",
            " #   Column        Non-Null Count  Dtype         \n",
            "---  ------        --------------  -----         \n",
            " 0   name          8613 non-null   object        \n",
            " 1   age           8613 non-null   float64       \n",
            " 2   country       8618 non-null   object        \n",
            " 3   year          8618 non-null   datetime64[ns]\n",
            " 4   Date_Given    8618 non-null   datetime64[ns]\n",
            " 5   sports        8618 non-null   object        \n",
            " 6   gold_medal    8618 non-null   int64         \n",
            " 7   silver_medal  8618 non-null   int64         \n",
            " 8   brone_medal   8618 non-null   int64         \n",
            " 9   total_medal   8618 non-null   int64         \n",
            "dtypes: datetime64[ns](2), float64(1), int64(4), object(3)\n",
            "memory usage: 673.4+ KB\n"
          ]
        }
      ],
      "source": [
        "df['Date_Given'] = pd.to_datetime(df['Date_Given']) #Changing the datatype of year column.\n",
        "\n",
        "#print(df.to_string())\n",
        "df.info()"
      ]
    },
    {
      "cell_type": "markdown",
      "metadata": {
        "id": "-hONoHzd1O5-"
      },
      "source": [
        "**Conclusion**:- Hence we have loaded all the raw data and changed its datatype and we can see there are 10 attributes and 8618 variables."
      ]
    },
    {
      "cell_type": "markdown",
      "metadata": {
        "id": "x1shGiZFTc4f"
      },
      "source": [
        "**Deal with missing values appropriately. You can either remove them or fill them, but a proper justification is required.**\n"
      ]
    },
    {
      "cell_type": "code",
      "execution_count": 110,
      "metadata": {
        "colab": {
          "base_uri": "https://localhost:8080/"
        },
        "id": "hiZUYKU3sQjL",
        "outputId": "8ff6272e-906a-4aec-b9fa-15007100d94f"
      },
      "outputs": [
        {
          "output_type": "execute_result",
          "data": {
            "text/plain": [
              "name            5\n",
              "age             5\n",
              "country         0\n",
              "year            0\n",
              "Date_Given      0\n",
              "sports          0\n",
              "gold_medal      0\n",
              "silver_medal    0\n",
              "brone_medal     0\n",
              "total_medal     0\n",
              "dtype: int64"
            ]
          },
          "metadata": {},
          "execution_count": 110
        }
      ],
      "source": [
        "df.isnull().sum() #checking for null values."
      ]
    },
    {
      "cell_type": "code",
      "execution_count": 111,
      "metadata": {
        "colab": {
          "base_uri": "https://localhost:8080/"
        },
        "id": "sVDxZesyTcCB",
        "outputId": "784648d3-93e0-4726-d9fc-dd0019a5adf7"
      },
      "outputs": [
        {
          "output_type": "stream",
          "name": "stdout",
          "text": [
            "<class 'pandas.core.frame.DataFrame'>\n",
            "Int64Index: 8613 entries, 0 to 8617\n",
            "Data columns (total 10 columns):\n",
            " #   Column        Non-Null Count  Dtype         \n",
            "---  ------        --------------  -----         \n",
            " 0   name          8613 non-null   object        \n",
            " 1   age           8613 non-null   float64       \n",
            " 2   country       8613 non-null   object        \n",
            " 3   year          8613 non-null   datetime64[ns]\n",
            " 4   Date_Given    8613 non-null   datetime64[ns]\n",
            " 5   sports        8613 non-null   object        \n",
            " 6   gold_medal    8613 non-null   int64         \n",
            " 7   silver_medal  8613 non-null   int64         \n",
            " 8   brone_medal   8613 non-null   int64         \n",
            " 9   total_medal   8613 non-null   int64         \n",
            "dtypes: datetime64[ns](2), float64(1), int64(4), object(3)\n",
            "memory usage: 740.2+ KB\n"
          ]
        }
      ],
      "source": [
        "df2 = df.dropna(subset=['name','age']) #Dropping the null values from name and age column\n",
        "df2.info()"
      ]
    },
    {
      "cell_type": "markdown",
      "metadata": {
        "id": "U7JHYw0G5E_T"
      },
      "source": [
        "**Conclusion** :- From above, we have successfully got the 5 null values which belongs to the column Name and Age, Since Name is the Catagorical Data, we will get that removed and the age is also related to the Athlete name we will also get that removed.\n",
        "\n",
        "Hence, we have successfully dropped those 5 rows which has missing values."
      ]
    },
    {
      "cell_type": "markdown",
      "metadata": {
        "id": "ruIuxh68VXTS"
      },
      "source": [
        "**Duplicates in the dataset introduces bias in the study. Please check and perform appropriate steps.**"
      ]
    },
    {
      "cell_type": "code",
      "execution_count": 112,
      "metadata": {
        "colab": {
          "base_uri": "https://localhost:8080/"
        },
        "id": "fiGPERYSVabL",
        "outputId": "dab44181-19ab-4728-e018-3342854c0af1"
      },
      "outputs": [
        {
          "output_type": "execute_result",
          "data": {
            "text/plain": [
              "3"
            ]
          },
          "metadata": {},
          "execution_count": 112
        }
      ],
      "source": [
        "df.duplicated().sum() #to get the duplicate values count"
      ]
    },
    {
      "cell_type": "code",
      "execution_count": 113,
      "metadata": {
        "colab": {
          "base_uri": "https://localhost:8080/",
          "height": 49
        },
        "id": "UEsT38pqWpx-",
        "outputId": "e4d233e9-42c9-4d7c-d252-cfe3879443a3"
      },
      "outputs": [
        {
          "output_type": "execute_result",
          "data": {
            "text/plain": [
              "Empty DataFrame\n",
              "Columns: [name, age, country, year, Date_Given, sports, gold_medal, silver_medal, brone_medal, total_medal]\n",
              "Index: []"
            ],
            "text/html": [
              "\n",
              "  <div id=\"df-2afb67c7-321d-47ac-b563-5137aaeb4eff\">\n",
              "    <div class=\"colab-df-container\">\n",
              "      <div>\n",
              "<style scoped>\n",
              "    .dataframe tbody tr th:only-of-type {\n",
              "        vertical-align: middle;\n",
              "    }\n",
              "\n",
              "    .dataframe tbody tr th {\n",
              "        vertical-align: top;\n",
              "    }\n",
              "\n",
              "    .dataframe thead th {\n",
              "        text-align: right;\n",
              "    }\n",
              "</style>\n",
              "<table border=\"1\" class=\"dataframe\">\n",
              "  <thead>\n",
              "    <tr style=\"text-align: right;\">\n",
              "      <th></th>\n",
              "      <th>name</th>\n",
              "      <th>age</th>\n",
              "      <th>country</th>\n",
              "      <th>year</th>\n",
              "      <th>Date_Given</th>\n",
              "      <th>sports</th>\n",
              "      <th>gold_medal</th>\n",
              "      <th>silver_medal</th>\n",
              "      <th>brone_medal</th>\n",
              "      <th>total_medal</th>\n",
              "    </tr>\n",
              "  </thead>\n",
              "  <tbody>\n",
              "  </tbody>\n",
              "</table>\n",
              "</div>\n",
              "      <button class=\"colab-df-convert\" onclick=\"convertToInteractive('df-2afb67c7-321d-47ac-b563-5137aaeb4eff')\"\n",
              "              title=\"Convert this dataframe to an interactive table.\"\n",
              "              style=\"display:none;\">\n",
              "        \n",
              "  <svg xmlns=\"http://www.w3.org/2000/svg\" height=\"24px\"viewBox=\"0 0 24 24\"\n",
              "       width=\"24px\">\n",
              "    <path d=\"M0 0h24v24H0V0z\" fill=\"none\"/>\n",
              "    <path d=\"M18.56 5.44l.94 2.06.94-2.06 2.06-.94-2.06-.94-.94-2.06-.94 2.06-2.06.94zm-11 1L8.5 8.5l.94-2.06 2.06-.94-2.06-.94L8.5 2.5l-.94 2.06-2.06.94zm10 10l.94 2.06.94-2.06 2.06-.94-2.06-.94-.94-2.06-.94 2.06-2.06.94z\"/><path d=\"M17.41 7.96l-1.37-1.37c-.4-.4-.92-.59-1.43-.59-.52 0-1.04.2-1.43.59L10.3 9.45l-7.72 7.72c-.78.78-.78 2.05 0 2.83L4 21.41c.39.39.9.59 1.41.59.51 0 1.02-.2 1.41-.59l7.78-7.78 2.81-2.81c.8-.78.8-2.07 0-2.86zM5.41 20L4 18.59l7.72-7.72 1.47 1.35L5.41 20z\"/>\n",
              "  </svg>\n",
              "      </button>\n",
              "      \n",
              "  <style>\n",
              "    .colab-df-container {\n",
              "      display:flex;\n",
              "      flex-wrap:wrap;\n",
              "      gap: 12px;\n",
              "    }\n",
              "\n",
              "    .colab-df-convert {\n",
              "      background-color: #E8F0FE;\n",
              "      border: none;\n",
              "      border-radius: 50%;\n",
              "      cursor: pointer;\n",
              "      display: none;\n",
              "      fill: #1967D2;\n",
              "      height: 32px;\n",
              "      padding: 0 0 0 0;\n",
              "      width: 32px;\n",
              "    }\n",
              "\n",
              "    .colab-df-convert:hover {\n",
              "      background-color: #E2EBFA;\n",
              "      box-shadow: 0px 1px 2px rgba(60, 64, 67, 0.3), 0px 1px 3px 1px rgba(60, 64, 67, 0.15);\n",
              "      fill: #174EA6;\n",
              "    }\n",
              "\n",
              "    [theme=dark] .colab-df-convert {\n",
              "      background-color: #3B4455;\n",
              "      fill: #D2E3FC;\n",
              "    }\n",
              "\n",
              "    [theme=dark] .colab-df-convert:hover {\n",
              "      background-color: #434B5C;\n",
              "      box-shadow: 0px 1px 3px 1px rgba(0, 0, 0, 0.15);\n",
              "      filter: drop-shadow(0px 1px 2px rgba(0, 0, 0, 0.3));\n",
              "      fill: #FFFFFF;\n",
              "    }\n",
              "  </style>\n",
              "\n",
              "      <script>\n",
              "        const buttonEl =\n",
              "          document.querySelector('#df-2afb67c7-321d-47ac-b563-5137aaeb4eff button.colab-df-convert');\n",
              "        buttonEl.style.display =\n",
              "          google.colab.kernel.accessAllowed ? 'block' : 'none';\n",
              "\n",
              "        async function convertToInteractive(key) {\n",
              "          const element = document.querySelector('#df-2afb67c7-321d-47ac-b563-5137aaeb4eff');\n",
              "          const dataTable =\n",
              "            await google.colab.kernel.invokeFunction('convertToInteractive',\n",
              "                                                     [key], {});\n",
              "          if (!dataTable) return;\n",
              "\n",
              "          const docLinkHtml = 'Like what you see? Visit the ' +\n",
              "            '<a target=\"_blank\" href=https://colab.research.google.com/notebooks/data_table.ipynb>data table notebook</a>'\n",
              "            + ' to learn more about interactive tables.';\n",
              "          element.innerHTML = '';\n",
              "          dataTable['output_type'] = 'display_data';\n",
              "          await google.colab.output.renderOutput(dataTable, element);\n",
              "          const docLink = document.createElement('div');\n",
              "          docLink.innerHTML = docLinkHtml;\n",
              "          element.appendChild(docLink);\n",
              "        }\n",
              "      </script>\n",
              "    </div>\n",
              "  </div>\n",
              "  "
            ]
          },
          "metadata": {},
          "execution_count": 113
        }
      ],
      "source": [
        "df2.loc[df2.duplicated(), :] #to get the location/column of duplicate values"
      ]
    },
    {
      "cell_type": "code",
      "execution_count": 114,
      "metadata": {
        "colab": {
          "base_uri": "https://localhost:8080/",
          "height": 641
        },
        "id": "NNcKyKq4XN_1",
        "outputId": "524a6d2c-6d48-4587-c2ab-3081b07a6fe9"
      },
      "outputs": [
        {
          "output_type": "execute_result",
          "data": {
            "text/plain": [
              "                      name   age        country                          year  \\\n",
              "0           Michael Phelps  23.0  United States 1970-01-01 00:00:00.000002008   \n",
              "1           Michael Phelps  19.0  United States 1970-01-01 00:00:00.000002004   \n",
              "2           Michael Phelps  27.0  United States 1970-01-01 00:00:00.000002012   \n",
              "3         Natalie Coughlin  25.0  United States 1970-01-01 00:00:00.000002008   \n",
              "4            Aleksey Nemov  24.0         Russia 1970-01-01 00:00:00.000002000   \n",
              "...                    ...   ...            ...                           ...   \n",
              "8613      Olena Sadovnycha  32.0        Ukraine 1970-01-01 00:00:00.000002000   \n",
              "8614      Kateryna Serdiuk  17.0        Ukraine 1970-01-01 00:00:00.000002000   \n",
              "8615      Wietse van Alten  21.0    Netherlands 1970-01-01 00:00:00.000002000   \n",
              "8616  Sandra Wagner-Sachse  31.0        Germany 1970-01-01 00:00:00.000002000   \n",
              "8617             Rod White  23.0  United States 1970-01-01 00:00:00.000002000   \n",
              "\n",
              "     Date_Given      sports  gold_medal  silver_medal  brone_medal  \\\n",
              "0    2008-08-24    Swimming           8             0            0   \n",
              "1    2004-08-29    Swimming           6             0            2   \n",
              "2    2012-08-12    Swimming           4             2            0   \n",
              "3    2008-08-24    Swimming           1             2            3   \n",
              "4    2000-10-01  Gymnastics           2             1            3   \n",
              "...         ...         ...         ...           ...          ...   \n",
              "8613 2000-10-01     Archery           0             1            0   \n",
              "8614 2000-10-01     Archery           0             1            0   \n",
              "8615 2000-10-01     Archery           0             0            1   \n",
              "8616 2000-10-01     Archery           0             0            1   \n",
              "8617 2000-10-01     Archery           0             0            1   \n",
              "\n",
              "      total_medal  \n",
              "0               8  \n",
              "1               8  \n",
              "2               6  \n",
              "3               6  \n",
              "4               6  \n",
              "...           ...  \n",
              "8613            1  \n",
              "8614            1  \n",
              "8615            1  \n",
              "8616            1  \n",
              "8617            1  \n",
              "\n",
              "[8615 rows x 10 columns]"
            ],
            "text/html": [
              "\n",
              "  <div id=\"df-3321b2fa-7d79-430e-a364-41a719e9147f\">\n",
              "    <div class=\"colab-df-container\">\n",
              "      <div>\n",
              "<style scoped>\n",
              "    .dataframe tbody tr th:only-of-type {\n",
              "        vertical-align: middle;\n",
              "    }\n",
              "\n",
              "    .dataframe tbody tr th {\n",
              "        vertical-align: top;\n",
              "    }\n",
              "\n",
              "    .dataframe thead th {\n",
              "        text-align: right;\n",
              "    }\n",
              "</style>\n",
              "<table border=\"1\" class=\"dataframe\">\n",
              "  <thead>\n",
              "    <tr style=\"text-align: right;\">\n",
              "      <th></th>\n",
              "      <th>name</th>\n",
              "      <th>age</th>\n",
              "      <th>country</th>\n",
              "      <th>year</th>\n",
              "      <th>Date_Given</th>\n",
              "      <th>sports</th>\n",
              "      <th>gold_medal</th>\n",
              "      <th>silver_medal</th>\n",
              "      <th>brone_medal</th>\n",
              "      <th>total_medal</th>\n",
              "    </tr>\n",
              "  </thead>\n",
              "  <tbody>\n",
              "    <tr>\n",
              "      <th>0</th>\n",
              "      <td>Michael Phelps</td>\n",
              "      <td>23.0</td>\n",
              "      <td>United States</td>\n",
              "      <td>1970-01-01 00:00:00.000002008</td>\n",
              "      <td>2008-08-24</td>\n",
              "      <td>Swimming</td>\n",
              "      <td>8</td>\n",
              "      <td>0</td>\n",
              "      <td>0</td>\n",
              "      <td>8</td>\n",
              "    </tr>\n",
              "    <tr>\n",
              "      <th>1</th>\n",
              "      <td>Michael Phelps</td>\n",
              "      <td>19.0</td>\n",
              "      <td>United States</td>\n",
              "      <td>1970-01-01 00:00:00.000002004</td>\n",
              "      <td>2004-08-29</td>\n",
              "      <td>Swimming</td>\n",
              "      <td>6</td>\n",
              "      <td>0</td>\n",
              "      <td>2</td>\n",
              "      <td>8</td>\n",
              "    </tr>\n",
              "    <tr>\n",
              "      <th>2</th>\n",
              "      <td>Michael Phelps</td>\n",
              "      <td>27.0</td>\n",
              "      <td>United States</td>\n",
              "      <td>1970-01-01 00:00:00.000002012</td>\n",
              "      <td>2012-08-12</td>\n",
              "      <td>Swimming</td>\n",
              "      <td>4</td>\n",
              "      <td>2</td>\n",
              "      <td>0</td>\n",
              "      <td>6</td>\n",
              "    </tr>\n",
              "    <tr>\n",
              "      <th>3</th>\n",
              "      <td>Natalie Coughlin</td>\n",
              "      <td>25.0</td>\n",
              "      <td>United States</td>\n",
              "      <td>1970-01-01 00:00:00.000002008</td>\n",
              "      <td>2008-08-24</td>\n",
              "      <td>Swimming</td>\n",
              "      <td>1</td>\n",
              "      <td>2</td>\n",
              "      <td>3</td>\n",
              "      <td>6</td>\n",
              "    </tr>\n",
              "    <tr>\n",
              "      <th>4</th>\n",
              "      <td>Aleksey Nemov</td>\n",
              "      <td>24.0</td>\n",
              "      <td>Russia</td>\n",
              "      <td>1970-01-01 00:00:00.000002000</td>\n",
              "      <td>2000-10-01</td>\n",
              "      <td>Gymnastics</td>\n",
              "      <td>2</td>\n",
              "      <td>1</td>\n",
              "      <td>3</td>\n",
              "      <td>6</td>\n",
              "    </tr>\n",
              "    <tr>\n",
              "      <th>...</th>\n",
              "      <td>...</td>\n",
              "      <td>...</td>\n",
              "      <td>...</td>\n",
              "      <td>...</td>\n",
              "      <td>...</td>\n",
              "      <td>...</td>\n",
              "      <td>...</td>\n",
              "      <td>...</td>\n",
              "      <td>...</td>\n",
              "      <td>...</td>\n",
              "    </tr>\n",
              "    <tr>\n",
              "      <th>8613</th>\n",
              "      <td>Olena Sadovnycha</td>\n",
              "      <td>32.0</td>\n",
              "      <td>Ukraine</td>\n",
              "      <td>1970-01-01 00:00:00.000002000</td>\n",
              "      <td>2000-10-01</td>\n",
              "      <td>Archery</td>\n",
              "      <td>0</td>\n",
              "      <td>1</td>\n",
              "      <td>0</td>\n",
              "      <td>1</td>\n",
              "    </tr>\n",
              "    <tr>\n",
              "      <th>8614</th>\n",
              "      <td>Kateryna Serdiuk</td>\n",
              "      <td>17.0</td>\n",
              "      <td>Ukraine</td>\n",
              "      <td>1970-01-01 00:00:00.000002000</td>\n",
              "      <td>2000-10-01</td>\n",
              "      <td>Archery</td>\n",
              "      <td>0</td>\n",
              "      <td>1</td>\n",
              "      <td>0</td>\n",
              "      <td>1</td>\n",
              "    </tr>\n",
              "    <tr>\n",
              "      <th>8615</th>\n",
              "      <td>Wietse van Alten</td>\n",
              "      <td>21.0</td>\n",
              "      <td>Netherlands</td>\n",
              "      <td>1970-01-01 00:00:00.000002000</td>\n",
              "      <td>2000-10-01</td>\n",
              "      <td>Archery</td>\n",
              "      <td>0</td>\n",
              "      <td>0</td>\n",
              "      <td>1</td>\n",
              "      <td>1</td>\n",
              "    </tr>\n",
              "    <tr>\n",
              "      <th>8616</th>\n",
              "      <td>Sandra Wagner-Sachse</td>\n",
              "      <td>31.0</td>\n",
              "      <td>Germany</td>\n",
              "      <td>1970-01-01 00:00:00.000002000</td>\n",
              "      <td>2000-10-01</td>\n",
              "      <td>Archery</td>\n",
              "      <td>0</td>\n",
              "      <td>0</td>\n",
              "      <td>1</td>\n",
              "      <td>1</td>\n",
              "    </tr>\n",
              "    <tr>\n",
              "      <th>8617</th>\n",
              "      <td>Rod White</td>\n",
              "      <td>23.0</td>\n",
              "      <td>United States</td>\n",
              "      <td>1970-01-01 00:00:00.000002000</td>\n",
              "      <td>2000-10-01</td>\n",
              "      <td>Archery</td>\n",
              "      <td>0</td>\n",
              "      <td>0</td>\n",
              "      <td>1</td>\n",
              "      <td>1</td>\n",
              "    </tr>\n",
              "  </tbody>\n",
              "</table>\n",
              "<p>8615 rows × 10 columns</p>\n",
              "</div>\n",
              "      <button class=\"colab-df-convert\" onclick=\"convertToInteractive('df-3321b2fa-7d79-430e-a364-41a719e9147f')\"\n",
              "              title=\"Convert this dataframe to an interactive table.\"\n",
              "              style=\"display:none;\">\n",
              "        \n",
              "  <svg xmlns=\"http://www.w3.org/2000/svg\" height=\"24px\"viewBox=\"0 0 24 24\"\n",
              "       width=\"24px\">\n",
              "    <path d=\"M0 0h24v24H0V0z\" fill=\"none\"/>\n",
              "    <path d=\"M18.56 5.44l.94 2.06.94-2.06 2.06-.94-2.06-.94-.94-2.06-.94 2.06-2.06.94zm-11 1L8.5 8.5l.94-2.06 2.06-.94-2.06-.94L8.5 2.5l-.94 2.06-2.06.94zm10 10l.94 2.06.94-2.06 2.06-.94-2.06-.94-.94-2.06-.94 2.06-2.06.94z\"/><path d=\"M17.41 7.96l-1.37-1.37c-.4-.4-.92-.59-1.43-.59-.52 0-1.04.2-1.43.59L10.3 9.45l-7.72 7.72c-.78.78-.78 2.05 0 2.83L4 21.41c.39.39.9.59 1.41.59.51 0 1.02-.2 1.41-.59l7.78-7.78 2.81-2.81c.8-.78.8-2.07 0-2.86zM5.41 20L4 18.59l7.72-7.72 1.47 1.35L5.41 20z\"/>\n",
              "  </svg>\n",
              "      </button>\n",
              "      \n",
              "  <style>\n",
              "    .colab-df-container {\n",
              "      display:flex;\n",
              "      flex-wrap:wrap;\n",
              "      gap: 12px;\n",
              "    }\n",
              "\n",
              "    .colab-df-convert {\n",
              "      background-color: #E8F0FE;\n",
              "      border: none;\n",
              "      border-radius: 50%;\n",
              "      cursor: pointer;\n",
              "      display: none;\n",
              "      fill: #1967D2;\n",
              "      height: 32px;\n",
              "      padding: 0 0 0 0;\n",
              "      width: 32px;\n",
              "    }\n",
              "\n",
              "    .colab-df-convert:hover {\n",
              "      background-color: #E2EBFA;\n",
              "      box-shadow: 0px 1px 2px rgba(60, 64, 67, 0.3), 0px 1px 3px 1px rgba(60, 64, 67, 0.15);\n",
              "      fill: #174EA6;\n",
              "    }\n",
              "\n",
              "    [theme=dark] .colab-df-convert {\n",
              "      background-color: #3B4455;\n",
              "      fill: #D2E3FC;\n",
              "    }\n",
              "\n",
              "    [theme=dark] .colab-df-convert:hover {\n",
              "      background-color: #434B5C;\n",
              "      box-shadow: 0px 1px 3px 1px rgba(0, 0, 0, 0.15);\n",
              "      filter: drop-shadow(0px 1px 2px rgba(0, 0, 0, 0.3));\n",
              "      fill: #FFFFFF;\n",
              "    }\n",
              "  </style>\n",
              "\n",
              "      <script>\n",
              "        const buttonEl =\n",
              "          document.querySelector('#df-3321b2fa-7d79-430e-a364-41a719e9147f button.colab-df-convert');\n",
              "        buttonEl.style.display =\n",
              "          google.colab.kernel.accessAllowed ? 'block' : 'none';\n",
              "\n",
              "        async function convertToInteractive(key) {\n",
              "          const element = document.querySelector('#df-3321b2fa-7d79-430e-a364-41a719e9147f');\n",
              "          const dataTable =\n",
              "            await google.colab.kernel.invokeFunction('convertToInteractive',\n",
              "                                                     [key], {});\n",
              "          if (!dataTable) return;\n",
              "\n",
              "          const docLinkHtml = 'Like what you see? Visit the ' +\n",
              "            '<a target=\"_blank\" href=https://colab.research.google.com/notebooks/data_table.ipynb>data table notebook</a>'\n",
              "            + ' to learn more about interactive tables.';\n",
              "          element.innerHTML = '';\n",
              "          dataTable['output_type'] = 'display_data';\n",
              "          await google.colab.output.renderOutput(dataTable, element);\n",
              "          const docLink = document.createElement('div');\n",
              "          docLink.innerHTML = docLinkHtml;\n",
              "          element.appendChild(docLink);\n",
              "        }\n",
              "      </script>\n",
              "    </div>\n",
              "  </div>\n",
              "  "
            ]
          },
          "metadata": {},
          "execution_count": 114
        }
      ],
      "source": [
        "df.drop_duplicates() #dropping the duplicate values"
      ]
    },
    {
      "cell_type": "markdown",
      "metadata": {
        "id": "ZwofOysq8hQ6"
      },
      "source": [
        "**Conclusion** :- From above, we have successfully removed duplicate values. Now after cleaning we have 8615 variables with 10 attributes."
      ]
    },
    {
      "cell_type": "markdown",
      "metadata": {
        "id": "kKh3xuPCXaiF"
      },
      "source": [
        "**Please remove special characters from the name column.**\n"
      ]
    },
    {
      "cell_type": "code",
      "execution_count": 115,
      "metadata": {
        "colab": {
          "base_uri": "https://localhost:8080/",
          "height": 206
        },
        "id": "4qhDsQbFXfMs",
        "outputId": "3c20a8c0-1b4c-4f9b-cadb-d8b2179cf802"
      },
      "outputs": [
        {
          "output_type": "execute_result",
          "data": {
            "text/plain": [
              "               name   age        country                          year  \\\n",
              "0    Michael Phelps  23.0  United States 1970-01-01 00:00:00.000002008   \n",
              "1    Michael Phelps  19.0  United States 1970-01-01 00:00:00.000002004   \n",
              "2    Michael Phelps  27.0  United States 1970-01-01 00:00:00.000002012   \n",
              "3  Natalie Coughlin  25.0  United States 1970-01-01 00:00:00.000002008   \n",
              "4     Aleksey Nemov  24.0         Russia 1970-01-01 00:00:00.000002000   \n",
              "\n",
              "  Date_Given      sports  gold_medal  silver_medal  brone_medal  total_medal  \n",
              "0 2008-08-24    Swimming           8             0            0            8  \n",
              "1 2004-08-29    Swimming           6             0            2            8  \n",
              "2 2012-08-12    Swimming           4             2            0            6  \n",
              "3 2008-08-24    Swimming           1             2            3            6  \n",
              "4 2000-10-01  Gymnastics           2             1            3            6  "
            ],
            "text/html": [
              "\n",
              "  <div id=\"df-3f0571dd-ff77-4929-9df5-b646d2568f31\">\n",
              "    <div class=\"colab-df-container\">\n",
              "      <div>\n",
              "<style scoped>\n",
              "    .dataframe tbody tr th:only-of-type {\n",
              "        vertical-align: middle;\n",
              "    }\n",
              "\n",
              "    .dataframe tbody tr th {\n",
              "        vertical-align: top;\n",
              "    }\n",
              "\n",
              "    .dataframe thead th {\n",
              "        text-align: right;\n",
              "    }\n",
              "</style>\n",
              "<table border=\"1\" class=\"dataframe\">\n",
              "  <thead>\n",
              "    <tr style=\"text-align: right;\">\n",
              "      <th></th>\n",
              "      <th>name</th>\n",
              "      <th>age</th>\n",
              "      <th>country</th>\n",
              "      <th>year</th>\n",
              "      <th>Date_Given</th>\n",
              "      <th>sports</th>\n",
              "      <th>gold_medal</th>\n",
              "      <th>silver_medal</th>\n",
              "      <th>brone_medal</th>\n",
              "      <th>total_medal</th>\n",
              "    </tr>\n",
              "  </thead>\n",
              "  <tbody>\n",
              "    <tr>\n",
              "      <th>0</th>\n",
              "      <td>Michael Phelps</td>\n",
              "      <td>23.0</td>\n",
              "      <td>United States</td>\n",
              "      <td>1970-01-01 00:00:00.000002008</td>\n",
              "      <td>2008-08-24</td>\n",
              "      <td>Swimming</td>\n",
              "      <td>8</td>\n",
              "      <td>0</td>\n",
              "      <td>0</td>\n",
              "      <td>8</td>\n",
              "    </tr>\n",
              "    <tr>\n",
              "      <th>1</th>\n",
              "      <td>Michael Phelps</td>\n",
              "      <td>19.0</td>\n",
              "      <td>United States</td>\n",
              "      <td>1970-01-01 00:00:00.000002004</td>\n",
              "      <td>2004-08-29</td>\n",
              "      <td>Swimming</td>\n",
              "      <td>6</td>\n",
              "      <td>0</td>\n",
              "      <td>2</td>\n",
              "      <td>8</td>\n",
              "    </tr>\n",
              "    <tr>\n",
              "      <th>2</th>\n",
              "      <td>Michael Phelps</td>\n",
              "      <td>27.0</td>\n",
              "      <td>United States</td>\n",
              "      <td>1970-01-01 00:00:00.000002012</td>\n",
              "      <td>2012-08-12</td>\n",
              "      <td>Swimming</td>\n",
              "      <td>4</td>\n",
              "      <td>2</td>\n",
              "      <td>0</td>\n",
              "      <td>6</td>\n",
              "    </tr>\n",
              "    <tr>\n",
              "      <th>3</th>\n",
              "      <td>Natalie Coughlin</td>\n",
              "      <td>25.0</td>\n",
              "      <td>United States</td>\n",
              "      <td>1970-01-01 00:00:00.000002008</td>\n",
              "      <td>2008-08-24</td>\n",
              "      <td>Swimming</td>\n",
              "      <td>1</td>\n",
              "      <td>2</td>\n",
              "      <td>3</td>\n",
              "      <td>6</td>\n",
              "    </tr>\n",
              "    <tr>\n",
              "      <th>4</th>\n",
              "      <td>Aleksey Nemov</td>\n",
              "      <td>24.0</td>\n",
              "      <td>Russia</td>\n",
              "      <td>1970-01-01 00:00:00.000002000</td>\n",
              "      <td>2000-10-01</td>\n",
              "      <td>Gymnastics</td>\n",
              "      <td>2</td>\n",
              "      <td>1</td>\n",
              "      <td>3</td>\n",
              "      <td>6</td>\n",
              "    </tr>\n",
              "  </tbody>\n",
              "</table>\n",
              "</div>\n",
              "      <button class=\"colab-df-convert\" onclick=\"convertToInteractive('df-3f0571dd-ff77-4929-9df5-b646d2568f31')\"\n",
              "              title=\"Convert this dataframe to an interactive table.\"\n",
              "              style=\"display:none;\">\n",
              "        \n",
              "  <svg xmlns=\"http://www.w3.org/2000/svg\" height=\"24px\"viewBox=\"0 0 24 24\"\n",
              "       width=\"24px\">\n",
              "    <path d=\"M0 0h24v24H0V0z\" fill=\"none\"/>\n",
              "    <path d=\"M18.56 5.44l.94 2.06.94-2.06 2.06-.94-2.06-.94-.94-2.06-.94 2.06-2.06.94zm-11 1L8.5 8.5l.94-2.06 2.06-.94-2.06-.94L8.5 2.5l-.94 2.06-2.06.94zm10 10l.94 2.06.94-2.06 2.06-.94-2.06-.94-.94-2.06-.94 2.06-2.06.94z\"/><path d=\"M17.41 7.96l-1.37-1.37c-.4-.4-.92-.59-1.43-.59-.52 0-1.04.2-1.43.59L10.3 9.45l-7.72 7.72c-.78.78-.78 2.05 0 2.83L4 21.41c.39.39.9.59 1.41.59.51 0 1.02-.2 1.41-.59l7.78-7.78 2.81-2.81c.8-.78.8-2.07 0-2.86zM5.41 20L4 18.59l7.72-7.72 1.47 1.35L5.41 20z\"/>\n",
              "  </svg>\n",
              "      </button>\n",
              "      \n",
              "  <style>\n",
              "    .colab-df-container {\n",
              "      display:flex;\n",
              "      flex-wrap:wrap;\n",
              "      gap: 12px;\n",
              "    }\n",
              "\n",
              "    .colab-df-convert {\n",
              "      background-color: #E8F0FE;\n",
              "      border: none;\n",
              "      border-radius: 50%;\n",
              "      cursor: pointer;\n",
              "      display: none;\n",
              "      fill: #1967D2;\n",
              "      height: 32px;\n",
              "      padding: 0 0 0 0;\n",
              "      width: 32px;\n",
              "    }\n",
              "\n",
              "    .colab-df-convert:hover {\n",
              "      background-color: #E2EBFA;\n",
              "      box-shadow: 0px 1px 2px rgba(60, 64, 67, 0.3), 0px 1px 3px 1px rgba(60, 64, 67, 0.15);\n",
              "      fill: #174EA6;\n",
              "    }\n",
              "\n",
              "    [theme=dark] .colab-df-convert {\n",
              "      background-color: #3B4455;\n",
              "      fill: #D2E3FC;\n",
              "    }\n",
              "\n",
              "    [theme=dark] .colab-df-convert:hover {\n",
              "      background-color: #434B5C;\n",
              "      box-shadow: 0px 1px 3px 1px rgba(0, 0, 0, 0.15);\n",
              "      filter: drop-shadow(0px 1px 2px rgba(0, 0, 0, 0.3));\n",
              "      fill: #FFFFFF;\n",
              "    }\n",
              "  </style>\n",
              "\n",
              "      <script>\n",
              "        const buttonEl =\n",
              "          document.querySelector('#df-3f0571dd-ff77-4929-9df5-b646d2568f31 button.colab-df-convert');\n",
              "        buttonEl.style.display =\n",
              "          google.colab.kernel.accessAllowed ? 'block' : 'none';\n",
              "\n",
              "        async function convertToInteractive(key) {\n",
              "          const element = document.querySelector('#df-3f0571dd-ff77-4929-9df5-b646d2568f31');\n",
              "          const dataTable =\n",
              "            await google.colab.kernel.invokeFunction('convertToInteractive',\n",
              "                                                     [key], {});\n",
              "          if (!dataTable) return;\n",
              "\n",
              "          const docLinkHtml = 'Like what you see? Visit the ' +\n",
              "            '<a target=\"_blank\" href=https://colab.research.google.com/notebooks/data_table.ipynb>data table notebook</a>'\n",
              "            + ' to learn more about interactive tables.';\n",
              "          element.innerHTML = '';\n",
              "          dataTable['output_type'] = 'display_data';\n",
              "          await google.colab.output.renderOutput(dataTable, element);\n",
              "          const docLink = document.createElement('div');\n",
              "          docLink.innerHTML = docLinkHtml;\n",
              "          element.appendChild(docLink);\n",
              "        }\n",
              "      </script>\n",
              "    </div>\n",
              "  </div>\n",
              "  "
            ]
          },
          "metadata": {},
          "execution_count": 115
        }
      ],
      "source": [
        "df=df.replace('\\*','',regex=True) #removing special characters using replace function\n",
        "df.head() #displaying 5 results"
      ]
    },
    {
      "cell_type": "markdown",
      "metadata": {
        "id": "lUbaopK09Phr"
      },
      "source": [
        "**Conclusion** : From above, we have successfully removed all the special characters from the dataset."
      ]
    },
    {
      "cell_type": "markdown",
      "metadata": {
        "id": "uJ2cbIedlxIW"
      },
      "source": [
        "**Please check if the age dataset is skewed or symmetric. Based on the results perform the transformation.**"
      ]
    },
    {
      "cell_type": "code",
      "execution_count": 116,
      "metadata": {
        "colab": {
          "base_uri": "https://localhost:8080/"
        },
        "id": "BnpaGPjOenSW",
        "outputId": "afa26368-29b9-448d-ebde-89ce7982b359"
      },
      "outputs": [
        {
          "output_type": "execute_result",
          "data": {
            "text/plain": [
              "0.8590070668484233"
            ]
          },
          "metadata": {},
          "execution_count": 116
        }
      ],
      "source": [
        "df['age'].skew()\n",
        "#getting skew value\n"
      ]
    },
    {
      "cell_type": "code",
      "execution_count": 117,
      "metadata": {
        "colab": {
          "base_uri": "https://localhost:8080/"
        },
        "id": "9Xcf9I2AAjtY",
        "outputId": "93e162de-d8fc-47ee-f48a-13f51b96210a"
      },
      "outputs": [
        {
          "output_type": "execute_result",
          "data": {
            "text/plain": [
              "0    24.0\n",
              "dtype: float64"
            ]
          },
          "metadata": {},
          "execution_count": 117
        }
      ],
      "source": [
        "df['age'].mode() #getting mode"
      ]
    },
    {
      "cell_type": "code",
      "execution_count": 118,
      "metadata": {
        "colab": {
          "base_uri": "https://localhost:8080/"
        },
        "id": "Y-G7TIwIApid",
        "outputId": "76625e4d-78b4-48d0-9c0b-43cd0152400f"
      },
      "outputs": [
        {
          "output_type": "execute_result",
          "data": {
            "text/plain": [
              "26.405433646812956"
            ]
          },
          "metadata": {},
          "execution_count": 118
        }
      ],
      "source": [
        "df['age'].mean() #getting mean"
      ]
    },
    {
      "cell_type": "code",
      "execution_count": 119,
      "metadata": {
        "colab": {
          "base_uri": "https://localhost:8080/"
        },
        "id": "Wyn6YOv1ArkL",
        "outputId": "802f0465-1c8e-4692-bb07-ad81d1c78734"
      },
      "outputs": [
        {
          "output_type": "execute_result",
          "data": {
            "text/plain": [
              "26.0"
            ]
          },
          "metadata": {},
          "execution_count": 119
        }
      ],
      "source": [
        "df['age'].median() #getting median"
      ]
    },
    {
      "cell_type": "code",
      "execution_count": 120,
      "metadata": {
        "colab": {
          "base_uri": "https://localhost:8080/",
          "height": 354
        },
        "id": "bj_65vpqe7I9",
        "outputId": "d84b327f-60bd-4af1-871b-ce3e98961395"
      },
      "outputs": [
        {
          "output_type": "stream",
          "name": "stderr",
          "text": [
            "/usr/local/lib/python3.7/dist-packages/seaborn/distributions.py:2619: FutureWarning: `distplot` is a deprecated function and will be removed in a future version. Please adapt your code to use either `displot` (a figure-level function with similar flexibility) or `histplot` (an axes-level function for histograms).\n",
            "  warnings.warn(msg, FutureWarning)\n"
          ]
        },
        {
          "output_type": "execute_result",
          "data": {
            "text/plain": [
              "<matplotlib.legend.Legend at 0x7f2c50101c50>"
            ]
          },
          "metadata": {},
          "execution_count": 120
        },
        {
          "output_type": "display_data",
          "data": {
            "text/plain": [
              "<Figure size 432x288 with 1 Axes>"
            ],
            "image/png": "[encoded data removed]"
          },
          "metadata": {
            "needs_background": "light"
          }
        }
      ],
      "source": [
        "sns.distplot(df['age'], bins = 20) #to get the distribution plot\n",
        "plt.axvline(x=np.mean(df['age']), color='red', label='mean') #plotting vertical lines\n",
        "plt.axvline(x=np.percentile(df['age'],25),color='green', label = '25th percentile:Q1') \n",
        "plt.axvline(x=np.percentile(df['age'],75),color ='orange',label = '75th percentile:Q3' )\n",
        "plt.legend()"
      ]
    },
    {
      "cell_type": "markdown",
      "metadata": {
        "id": "DOajckjMDxQ5"
      },
      "source": [
        "From above, we can see that the data is moderately skewed. Hence we will follow below transformation techniques to get the graph symmetrical"
      ]
    },
    {
      "cell_type": "code",
      "execution_count": 121,
      "metadata": {
        "colab": {
          "base_uri": "https://localhost:8080/",
          "height": 354
        },
        "id": "PCDQQvyPAxaK",
        "outputId": "02803730-16a9-4f99-bb61-949ffbfdd247"
      },
      "outputs": [
        {
          "output_type": "stream",
          "name": "stderr",
          "text": [
            "/usr/local/lib/python3.7/dist-packages/seaborn/distributions.py:2619: FutureWarning: `distplot` is a deprecated function and will be removed in a future version. Please adapt your code to use either `displot` (a figure-level function with similar flexibility) or `histplot` (an axes-level function for histograms).\n",
            "  warnings.warn(msg, FutureWarning)\n"
          ]
        },
        {
          "output_type": "execute_result",
          "data": {
            "text/plain": [
              "<matplotlib.axes._subplots.AxesSubplot at 0x7f2c50146a50>"
            ]
          },
          "metadata": {},
          "execution_count": 121
        },
        {
          "output_type": "display_data",
          "data": {
            "text/plain": [
              "<Figure size 432x288 with 1 Axes>"
            ],
            "image/png": "[encoded data removed]"
          },
          "metadata": {
            "needs_background": "light"
          }
        }
      ],
      "source": [
        "sqrt_age = df['age'] ** (.5)\n",
        "sqrt_age.head()\n",
        "sns.distplot(sqrt_age)\n",
        "\n",
        "#using square root transformation method and plotting the graph"
      ]
    },
    {
      "cell_type": "markdown",
      "metadata": {
        "id": "d9nwXqbWEAAm"
      },
      "source": [
        "After transforming, the data is definitely less skewed, but there is still a long right tail."
      ]
    },
    {
      "cell_type": "code",
      "execution_count": 122,
      "metadata": {
        "colab": {
          "base_uri": "https://localhost:8080/",
          "height": 354
        },
        "id": "vaZQF_ayB4QM",
        "outputId": "dcbe9ffe-4492-409d-efa1-dcf450263564"
      },
      "outputs": [
        {
          "output_type": "stream",
          "name": "stderr",
          "text": [
            "/usr/local/lib/python3.7/dist-packages/seaborn/distributions.py:2619: FutureWarning: `distplot` is a deprecated function and will be removed in a future version. Please adapt your code to use either `displot` (a figure-level function with similar flexibility) or `histplot` (an axes-level function for histograms).\n",
            "  warnings.warn(msg, FutureWarning)\n"
          ]
        },
        {
          "output_type": "execute_result",
          "data": {
            "text/plain": [
              "<matplotlib.axes._subplots.AxesSubplot at 0x7f2c4ff65e10>"
            ]
          },
          "metadata": {},
          "execution_count": 122
        },
        {
          "output_type": "display_data",
          "data": {
            "text/plain": [
              "<Figure size 432x288 with 1 Axes>"
            ],
            "image/png": "[encoded data removed]"
          },
          "metadata": {
            "needs_background": "light"
          }
        }
      ],
      "source": [
        "resipocal_age = 1/df['age']\n",
        "sns.distplot(resipocal_age)\n",
        "\n",
        "#using reciprocal method"
      ]
    },
    {
      "cell_type": "markdown",
      "metadata": {
        "id": "fEm6SQE_EIQj"
      },
      "source": [
        "Still not great, the above distribution is not quite symmetrical.\n",
        "\n"
      ]
    },
    {
      "cell_type": "code",
      "execution_count": 123,
      "metadata": {
        "colab": {
          "base_uri": "https://localhost:8080/",
          "height": 354
        },
        "id": "0bNV9RBaCfRd",
        "outputId": "24c7b03d-558a-41fc-bc32-b11cbb4da5ea"
      },
      "outputs": [
        {
          "output_type": "stream",
          "name": "stderr",
          "text": [
            "/usr/local/lib/python3.7/dist-packages/seaborn/distributions.py:2619: FutureWarning: `distplot` is a deprecated function and will be removed in a future version. Please adapt your code to use either `displot` (a figure-level function with similar flexibility) or `histplot` (an axes-level function for histograms).\n",
            "  warnings.warn(msg, FutureWarning)\n"
          ]
        },
        {
          "output_type": "execute_result",
          "data": {
            "text/plain": [
              "<matplotlib.axes._subplots.AxesSubplot at 0x7f2c4fe6d7d0>"
            ]
          },
          "metadata": {},
          "execution_count": 123
        },
        {
          "output_type": "display_data",
          "data": {
            "text/plain": [
              "<Figure size 432x288 with 1 Axes>"
            ],
            "image/png": "[encoded data removed]"
          },
          "metadata": {
            "needs_background": "light"
          }
        }
      ],
      "source": [
        "log_age = np.log(df['age'])\n",
        "sns.distplot(log_age)\n",
        "\n",
        "#using log transformation method"
      ]
    },
    {
      "cell_type": "code",
      "execution_count": 124,
      "metadata": {
        "colab": {
          "base_uri": "https://localhost:8080/"
        },
        "id": "edAmgKDNCvgc",
        "outputId": "71c7fbf0-04c0-4726-8397-68e39882a409"
      },
      "outputs": [
        {
          "output_type": "execute_result",
          "data": {
            "text/plain": [
              "3.2556995620212654"
            ]
          },
          "metadata": {},
          "execution_count": 124
        }
      ],
      "source": [
        "log_age.mean()"
      ]
    },
    {
      "cell_type": "code",
      "execution_count": 125,
      "metadata": {
        "colab": {
          "base_uri": "https://localhost:8080/"
        },
        "id": "JAajPaejCym4",
        "outputId": "8066a1cd-3316-40b9-e8e7-76e1f4d151f6"
      },
      "outputs": [
        {
          "output_type": "execute_result",
          "data": {
            "text/plain": [
              "3.258096538021482"
            ]
          },
          "metadata": {},
          "execution_count": 125
        }
      ],
      "source": [
        "log_age.median()"
      ]
    },
    {
      "cell_type": "code",
      "execution_count": 126,
      "metadata": {
        "colab": {
          "base_uri": "https://localhost:8080/"
        },
        "id": "1DhvPqmxC173",
        "outputId": "8b923f5a-6bc8-424a-8b9d-a40b79af9f26"
      },
      "outputs": [
        {
          "output_type": "execute_result",
          "data": {
            "text/plain": [
              "0    3.178054\n",
              "dtype: float64"
            ]
          },
          "metadata": {},
          "execution_count": 126
        }
      ],
      "source": [
        "log_age.mode()"
      ]
    },
    {
      "cell_type": "markdown",
      "metadata": {
        "id": "YuRV1DR6ETvY"
      },
      "source": [
        "The log transformation seems to be the best, as the distribution of transformed age is the most symmetrical."
      ]
    },
    {
      "cell_type": "markdown",
      "metadata": {
        "id": "gw8DYsRwEZ2r"
      },
      "source": [
        "**Conclusion** :- From above, we can confirm that the age data was moderately skewwed with the skeweness of 0.85 and using Log-Transformation, we have get the graph which is more symmetrical."
      ]
    },
    {
      "cell_type": "markdown",
      "metadata": {
        "id": "XteTUst-E7fk"
      },
      "source": [
        "**Perform data visualization techniques to appropriate columns and explain them.**\n"
      ]
    },
    {
      "cell_type": "code",
      "execution_count": 127,
      "metadata": {
        "colab": {
          "base_uri": "https://localhost:8080/"
        },
        "id": "-7CJe6y4gMrQ",
        "outputId": "322ccf03-b6dd-45c3-e6d3-2e81511ff7aa"
      },
      "outputs": [
        {
          "output_type": "execute_result",
          "data": {
            "text/plain": [
              "2008    1872\n",
              "2000    1840\n",
              "2004    1839\n",
              "2012    1776\n",
              "2006     443\n",
              "2010     441\n",
              "2002     407\n",
              "Name: year, dtype: int64"
            ]
          },
          "metadata": {},
          "execution_count": 127
        }
      ],
      "source": [
        "df['year'] = pd.to_numeric(df['year']) \n",
        "df['year'].value_counts()\n"
      ]
    },
    {
      "cell_type": "code",
      "execution_count": 128,
      "metadata": {
        "colab": {
          "base_uri": "https://localhost:8080/",
          "height": 425
        },
        "id": "KX0vm3WwV8t2",
        "outputId": "615df677-1cda-4285-f5aa-3900d7dc0940"
      },
      "outputs": [
        {
          "output_type": "stream",
          "name": "stderr",
          "text": [
            "/usr/local/lib/python3.7/dist-packages/seaborn/_decorators.py:43: FutureWarning: Pass the following variable as a keyword arg: x. From version 0.12, the only valid positional argument will be `data`, and passing other arguments without an explicit keyword will result in an error or misinterpretation.\n",
            "  FutureWarning\n"
          ]
        },
        {
          "output_type": "execute_result",
          "data": {
            "text/plain": [
              "Text(0, 0.5, 'No. of Athlete')"
            ]
          },
          "metadata": {},
          "execution_count": 128
        },
        {
          "output_type": "display_data",
          "data": {
            "text/plain": [
              "<Figure size 720x360 with 1 Axes>"
            ],
            "image/png": "[encoded data removed]"
          },
          "metadata": {
            "needs_background": "light"
          }
        }
      ],
      "source": [
        "plt.figure(figsize=(10, 5)) #resizing the graph\n",
        "sns.countplot(df['year']) #gettning count plot\n",
        "plt.title('Total Athletes contribution in summer olympics over time') #titling the graph\n",
        "plt.xlabel('years') #labelling the x - axis\n",
        "plt.ylabel('No. of Athlete') #labelling the y-axis"
      ]
    },
    {
      "cell_type": "markdown",
      "metadata": {
        "id": "zxo4QgtYWO5g"
      },
      "source": [
        "From above, we have get the Athletes counts over years. We can see in year 2008, we have the maximum athlet count of almost 1872, followed by year 2000 with the count of 1840.\n",
        "\n",
        "Hence, we can conclude that the years are not affecting the athlets contribution. For few years it is at peak and for some years its at lowest at the range of 500s. \n",
        "\n",
        "Therefore, we can confirm that the summer and winter olympics plays important role for the contribution of athlets. Summer Olympics are having more contribution of Athlets."
      ]
    },
    {
      "cell_type": "code",
      "execution_count": 129,
      "metadata": {
        "colab": {
          "base_uri": "https://localhost:8080/"
        },
        "id": "tyAAfpbGg_yF",
        "outputId": "ec1659bb-6913-4bbb-b6d2-d0e55c624316"
      },
      "outputs": [
        {
          "output_type": "execute_result",
          "data": {
            "text/plain": [
              "United States    1109\n",
              "Russia            706\n",
              "Germany           552\n",
              "Australia         524\n",
              "China             450\n",
              "Canada            351\n",
              "Italy             307\n",
              "Great Britain     296\n",
              "France            287\n",
              "Netherlands       286\n",
              "Name: country, dtype: int64"
            ]
          },
          "metadata": {},
          "execution_count": 129
        }
      ],
      "source": [
        "top_10 = df['country'].value_counts()[:10] #getting counts of the medals\n",
        "top_10.head(10)"
      ]
    },
    {
      "cell_type": "code",
      "execution_count": 130,
      "metadata": {
        "colab": {
          "base_uri": "https://localhost:8080/",
          "height": 588
        },
        "id": "RjRlZfAcYAmG",
        "outputId": "eeb5d1bd-4480-41c5-e609-1f9d0674ac7f"
      },
      "outputs": [
        {
          "output_type": "execute_result",
          "data": {
            "text/plain": [
              "Text(0, 0.5, 'No. of medals')"
            ]
          },
          "metadata": {},
          "execution_count": 130
        },
        {
          "output_type": "display_data",
          "data": {
            "text/plain": [
              "<Figure size 720x576 with 1 Axes>"
            ],
            "image/png": "[encoded data removed]"
          },
          "metadata": {
            "needs_background": "light"
          }
        }
      ],
      "source": [
        "top_10.plot(kind='bar',figsize=(10,8)) #plotting the graph for top 10 countries for medals.\n",
        "plt.title('All Time Medals of top 10 countries')\n",
        "plt.xlabel('country') #labelling the x - axis\n",
        "plt.ylabel('No. of medals') #labelling the y-axis"
      ]
    },
    {
      "cell_type": "markdown",
      "metadata": {
        "id": "wO2U57hyYSjt"
      },
      "source": [
        "From above, we can see the top 10 countries which has highest number of Medals.\n",
        "\n",
        "We can see United States has highest number of medals with the count of 1109, followed by Russia with 706 medals."
      ]
    },
    {
      "cell_type": "code",
      "execution_count": 131,
      "metadata": {
        "colab": {
          "base_uri": "https://localhost:8080/"
        },
        "id": "3eOnyx_alEIi",
        "outputId": "7f600da8-bda0-4e77-ae34-d0c3d6821643"
      },
      "outputs": [
        {
          "output_type": "stream",
          "name": "stdout",
          "text": [
            "name\n",
            "Michael Phelps             22\n",
            "Natalie Coughlin           12\n",
            "Ryan Lochte                11\n",
            "Leisel Jones                9\n",
            "Ole Einar Bjørndalen        9\n",
            "Ian Thorpe                  9\n",
            "Dara Torres                 8\n",
            "Jason Lezak                 8\n",
            "Apolo Anton Ohno            8\n",
            "Inge de Bruijn              8\n",
            "Katalin Kovács              8\n",
            "Petria Thomas               7\n",
            "Veronica Campbell-Brown     7\n",
            "Felix Gottwald              7\n",
            "Kati Wilhelm                7\n",
            "Valentina Vezzali           7\n",
            "Kirsty Coventry             7\n",
            "Libby Lenton-Trickett       7\n",
            "Bradley Wiggins             7\n",
            "Marit Bjørgen               7\n",
            "Name: total_medal, dtype: int64\n"
          ]
        }
      ],
      "source": [
        "athlete_order = df.groupby(['name'])['total_medal'].sum().sort_values(ascending=False).head(20)\n",
        "print(athlete_order)\n"
      ]
    },
    {
      "cell_type": "code",
      "execution_count": 132,
      "metadata": {
        "colab": {
          "base_uri": "https://localhost:8080/",
          "height": 413
        },
        "id": "fTXTa9C7ZP5z",
        "outputId": "75cb9c43-c84c-469b-882d-de2b2d71e67b"
      },
      "outputs": [
        {
          "output_type": "display_data",
          "data": {
            "text/plain": [
              "<Figure size 432x288 with 1 Axes>"
            ],
            "image/png": "[encoded data removed]"
          },
          "metadata": {
            "needs_background": "light"
          }
        }
      ],
      "source": [
        "athlete_order.plot(kind = \"bar\")\n",
        "plt.title('Top 10 Athletes with the most awarded Medals')\n",
        "plt.xlabel('No. of awrded medals')\n",
        "plt.ylabel('Athlete Name');"
      ]
    },
    {
      "cell_type": "markdown",
      "metadata": {
        "id": "RohMGdTfZO-v"
      },
      "source": [
        "From above, we have successfully plot the Top 10\n",
        "Athletes and we can conclude that the Michel Phelps has won total 22 medals which is highest in number."
      ]
    },
    {
      "cell_type": "code",
      "execution_count": 133,
      "metadata": {
        "colab": {
          "base_uri": "https://localhost:8080/"
        },
        "id": "UU5FzAzsai6_",
        "outputId": "31d8c2b3-39e2-4dba-96be-d374391fdf09"
      },
      "outputs": [
        {
          "output_type": "stream",
          "name": "stdout",
          "text": [
            "Athletics                    687\n",
            "Rowing                       567\n",
            "Swimming                     487\n",
            "Football                     407\n",
            "Hockey                       388\n",
            "Ice Hockey                   384\n",
            "Handball                     351\n",
            "Waterpolo                    306\n",
            "Canoeing                     295\n",
            "Basketball                   287\n",
            "Volleyball                   281\n",
            "Cycling                      261\n",
            "Wrestling                    245\n",
            "Fencing                      230\n",
            "Judo                         224\n",
            "Baseball                     216\n",
            "Sailing                      210\n",
            "Gymnastics                   194\n",
            "Boxing                       188\n",
            "Shooting                     181\n",
            "Weightlifting                180\n",
            "Equestrian                   157\n",
            "Softball                     134\n",
            "Cross Country Skiing         128\n",
            "Diving                       113\n",
            "Taekwondo                    112\n",
            "Synchronized Swimming        109\n",
            "Speed Skating                103\n",
            "Short-Track Speed Skating     96\n",
            "Biathlon                      94\n",
            "Badminton                     91\n",
            "Rhythmic Gymnastics           84\n",
            "Archery                       84\n",
            "Curling                       82\n",
            "Tennis                        71\n",
            "Table Tennis                  67\n",
            "Bobsleigh                     66\n",
            "Alpine Skiing                 61\n",
            "Figure Skating                54\n",
            "Snowboarding                  48\n",
            "Beach Volleyball              48\n",
            "Freestyle Skiing              42\n",
            "Ski Jumping                   40\n",
            "Nordic Combined               39\n",
            "Luge                          36\n",
            "Modern Pentathlon             24\n",
            "Triathlon                     24\n",
            "Trampoline                    24\n",
            "Skeleton                      18\n",
            "Name: sports, dtype: int64\n"
          ]
        }
      ],
      "source": [
        "highest_sport = df['sports'].value_counts() #counting the values for sports for which medal has been received\n",
        "print(highest_sport)"
      ]
    },
    {
      "cell_type": "code",
      "execution_count": 134,
      "metadata": {
        "colab": {
          "base_uri": "https://localhost:8080/",
          "height": 486
        },
        "id": "t-bnEg_RmAW7",
        "outputId": "d0df7615-f326-46c1-f72b-39643cb94038"
      },
      "outputs": [
        {
          "output_type": "execute_result",
          "data": {
            "text/plain": [
              "Text(0, 0.5, 'No. of Medals')"
            ]
          },
          "metadata": {},
          "execution_count": 134
        },
        {
          "output_type": "display_data",
          "data": {
            "text/plain": [
              "<Figure size 1080x360 with 1 Axes>"
            ],
            "image/png": "[encoded data removed]"
          },
          "metadata": {
            "needs_background": "light"
          }
        }
      ],
      "source": [
        "plt.figure(figsize=(15, 5)) #resizing the graph\n",
        "highest_sport = df['sports'].value_counts().index #getting counts\n",
        "sns.countplot(data=df, x='sports', order=highest_sport) #getting count plot\n",
        "plt.xticks(rotation=75)\n",
        "plt.title('Sports with most awarded Medals') #titling the graph\n",
        "plt.xlabel('Sport') #labelling x axis\n",
        "plt.ylabel('No. of Medals') #labelling y axis"
      ]
    },
    {
      "cell_type": "markdown",
      "metadata": {
        "id": "QCQ5Rz8oatLB"
      },
      "source": [
        "Conclusion :- From above, we have get the the plot of the sports as per the medals and we can clearly see that the Athletics is the most popular sports and the total medal given for this sports was 687 and the Skeleton has lowest number of medals of count 18."
      ]
    },
    {
      "cell_type": "markdown",
      "metadata": {
        "id": "gpcSw4KYbLFB"
      },
      "source": [
        "**Conclusion** :- Hence we have successfully visualize the required columns of the given dataset and we have got the idea of the Athlets, their sports and Olympic years contribution."
      ]
    },
    {
      "cell_type": "markdown",
      "metadata": {
        "id": "jY0hbHqWba1_"
      },
      "source": [
        "**Please perform appropriate numerical measures on each column and report them accordingly.**\n"
      ]
    },
    {
      "cell_type": "code",
      "execution_count": 135,
      "metadata": {
        "colab": {
          "base_uri": "https://localhost:8080/"
        },
        "id": "r-kSNmP5n1Zl",
        "outputId": "796a64d0-a384-404f-ecd3-1248c15279e5"
      },
      "outputs": [
        {
          "output_type": "stream",
          "name": "stderr",
          "text": [
            "/usr/local/lib/python3.7/dist-packages/ipykernel_launcher.py:1: FutureWarning: DataFrame.mean and DataFrame.median with numeric_only=None will include datetime64 and datetime64tz columns in a future version.\n",
            "  \"\"\"Entry point for launching an IPython kernel.\n",
            "/usr/local/lib/python3.7/dist-packages/ipykernel_launcher.py:1: FutureWarning: Dropping of nuisance columns in DataFrame reductions (with 'numeric_only=None') is deprecated; in a future version this will raise TypeError.  Select only valid columns before calling the reduction.\n",
            "  \"\"\"Entry point for launching an IPython kernel.\n"
          ]
        },
        {
          "output_type": "execute_result",
          "data": {
            "text/plain": [
              "age               26.405434\n",
              "year            2005.978881\n",
              "gold_medal         0.364702\n",
              "silver_medal       0.363309\n",
              "brone_medal        0.377698\n",
              "total_medal        1.105709\n",
              "dtype: float64"
            ]
          },
          "metadata": {},
          "execution_count": 135
        }
      ],
      "source": [
        "df.mean() #getting mean of the dataframe"
      ]
    },
    {
      "cell_type": "code",
      "execution_count": 136,
      "metadata": {
        "colab": {
          "base_uri": "https://localhost:8080/"
        },
        "id": "Dpjgrs5poAkY",
        "outputId": "d4b04451-1c97-4361-a036-3aad7e08402b"
      },
      "outputs": [
        {
          "output_type": "stream",
          "name": "stderr",
          "text": [
            "/usr/local/lib/python3.7/dist-packages/ipykernel_launcher.py:1: FutureWarning: Dropping of nuisance columns in DataFrame reductions (with 'numeric_only=None') is deprecated; in a future version this will raise TypeError.  Select only valid columns before calling the reduction.\n",
            "  \"\"\"Entry point for launching an IPython kernel.\n"
          ]
        },
        {
          "output_type": "execute_result",
          "data": {
            "text/plain": [
              "age                                 5.102118\n",
              "year                                4.289946\n",
              "Date_Given      1552 days 11:22:54.515216720\n",
              "gold_medal                          0.545349\n",
              "silver_medal                        0.511613\n",
              "brone_medal                         0.505005\n",
              "total_medal                         0.408892\n",
              "dtype: object"
            ]
          },
          "metadata": {},
          "execution_count": 136
        }
      ],
      "source": [
        "df.std() #calculating the standard deviation"
      ]
    },
    {
      "cell_type": "code",
      "execution_count": 137,
      "metadata": {
        "colab": {
          "base_uri": "https://localhost:8080/"
        },
        "id": "GXSEjyrjpaOJ",
        "outputId": "f86bca41-88ca-4f98-fb6f-5f6e99366424"
      },
      "outputs": [
        {
          "output_type": "stream",
          "name": "stderr",
          "text": [
            "/usr/local/lib/python3.7/dist-packages/ipykernel_launcher.py:1: FutureWarning: DataFrame.mean and DataFrame.median with numeric_only=None will include datetime64 and datetime64tz columns in a future version.\n",
            "  \"\"\"Entry point for launching an IPython kernel.\n",
            "/usr/local/lib/python3.7/dist-packages/ipykernel_launcher.py:1: FutureWarning: Dropping of nuisance columns in DataFrame reductions (with 'numeric_only=None') is deprecated; in a future version this will raise TypeError.  Select only valid columns before calling the reduction.\n",
            "  \"\"\"Entry point for launching an IPython kernel.\n"
          ]
        },
        {
          "output_type": "execute_result",
          "data": {
            "text/plain": [
              "age               26.0\n",
              "year            2006.0\n",
              "gold_medal         0.0\n",
              "silver_medal       0.0\n",
              "brone_medal        0.0\n",
              "total_medal        1.0\n",
              "dtype: float64"
            ]
          },
          "metadata": {},
          "execution_count": 137
        }
      ],
      "source": [
        "df.median() #getting mean"
      ]
    },
    {
      "cell_type": "code",
      "execution_count": 138,
      "metadata": {
        "colab": {
          "base_uri": "https://localhost:8080/"
        },
        "id": "WbYFP4HypdvQ",
        "outputId": "40501f4c-f490-495c-cee3-534d96b95d92"
      },
      "outputs": [
        {
          "output_type": "stream",
          "name": "stderr",
          "text": [
            "/usr/local/lib/python3.7/dist-packages/ipykernel_launcher.py:1: FutureWarning: Dropping of nuisance columns in DataFrame reductions (with 'numeric_only=None') is deprecated; in a future version this will raise TypeError.  Select only valid columns before calling the reduction.\n",
            "  \"\"\"Entry point for launching an IPython kernel.\n"
          ]
        },
        {
          "output_type": "execute_result",
          "data": {
            "text/plain": [
              "age             26.031610\n",
              "year            18.403639\n",
              "gold_medal       0.297405\n",
              "silver_medal     0.261748\n",
              "brone_medal      0.255030\n",
              "total_medal      0.167193\n",
              "dtype: float64"
            ]
          },
          "metadata": {},
          "execution_count": 138
        }
      ],
      "source": [
        "df.var() #getting variance"
      ]
    },
    {
      "cell_type": "code",
      "execution_count": 139,
      "metadata": {
        "colab": {
          "base_uri": "https://localhost:8080/"
        },
        "id": "JMhY68dZpklz",
        "outputId": "b26bcc59-c545-42d0-8db9-856e932c59f3"
      },
      "outputs": [
        {
          "output_type": "execute_result",
          "data": {
            "text/plain": [
              "0.0"
            ]
          },
          "metadata": {},
          "execution_count": 139
        }
      ],
      "source": [
        "from scipy.stats import iqr\n",
        "iqr(df['total_medal']) #getting IQR"
      ]
    },
    {
      "cell_type": "code",
      "execution_count": 140,
      "metadata": {
        "colab": {
          "base_uri": "https://localhost:8080/"
        },
        "id": "VrMS66IqpsJM",
        "outputId": "1b213b39-6beb-4d7d-d982-e511115d14eb"
      },
      "outputs": [
        {
          "output_type": "stream",
          "name": "stdout",
          "text": [
            "age             0.859007\n",
            "year           -0.001965\n",
            "gold_medal      1.639667\n",
            "silver_medal    0.952980\n",
            "brone_medal     0.762999\n",
            "total_medal     5.582673\n",
            "dtype: float64\n"
          ]
        },
        {
          "output_type": "stream",
          "name": "stderr",
          "text": [
            "/usr/local/lib/python3.7/dist-packages/ipykernel_launcher.py:1: FutureWarning: Dropping of nuisance columns in DataFrame reductions (with 'numeric_only=None') is deprecated; in a future version this will raise TypeError.  Select only valid columns before calling the reduction.\n",
            "  \"\"\"Entry point for launching an IPython kernel.\n"
          ]
        }
      ],
      "source": [
        "print(df.skew()) #getting skew\n"
      ]
    },
    {
      "cell_type": "code",
      "execution_count": 141,
      "metadata": {
        "colab": {
          "base_uri": "https://localhost:8080/",
          "height": 300
        },
        "id": "Sebewt9OpxYU",
        "outputId": "3136dce7-e0db-43b9-a89c-0dc855c3bc25"
      },
      "outputs": [
        {
          "output_type": "execute_result",
          "data": {
            "text/plain": [
              "               age         year   gold_medal  silver_medal  brone_medal  \\\n",
              "count  8613.000000  8618.000000  8618.000000   8618.000000  8618.000000   \n",
              "mean     26.405434  2005.978881     0.364702      0.363309     0.377698   \n",
              "std       5.102118     4.289946     0.545349      0.511613     0.505005   \n",
              "min      15.000000  2000.000000     0.000000      0.000000     0.000000   \n",
              "25%      23.000000  2002.000000     0.000000      0.000000     0.000000   \n",
              "50%      26.000000  2006.000000     0.000000      0.000000     0.000000   \n",
              "75%      29.000000  2010.000000     1.000000      1.000000     1.000000   \n",
              "max      61.000000  2012.000000     8.000000      3.000000     3.000000   \n",
              "\n",
              "       total_medal  \n",
              "count  8618.000000  \n",
              "mean      1.105709  \n",
              "std       0.408892  \n",
              "min       1.000000  \n",
              "25%       1.000000  \n",
              "50%       1.000000  \n",
              "75%       1.000000  \n",
              "max       8.000000  "
            ],
            "text/html": [
              "\n",
              "  <div id=\"df-1e52af32-d9ff-4804-8e5c-50aca9c04d6b\">\n",
              "    <div class=\"colab-df-container\">\n",
              "      <div>\n",
              "<style scoped>\n",
              "    .dataframe tbody tr th:only-of-type {\n",
              "        vertical-align: middle;\n",
              "    }\n",
              "\n",
              "    .dataframe tbody tr th {\n",
              "        vertical-align: top;\n",
              "    }\n",
              "\n",
              "    .dataframe thead th {\n",
              "        text-align: right;\n",
              "    }\n",
              "</style>\n",
              "<table border=\"1\" class=\"dataframe\">\n",
              "  <thead>\n",
              "    <tr style=\"text-align: right;\">\n",
              "      <th></th>\n",
              "      <th>age</th>\n",
              "      <th>year</th>\n",
              "      <th>gold_medal</th>\n",
              "      <th>silver_medal</th>\n",
              "      <th>brone_medal</th>\n",
              "      <th>total_medal</th>\n",
              "    </tr>\n",
              "  </thead>\n",
              "  <tbody>\n",
              "    <tr>\n",
              "      <th>count</th>\n",
              "      <td>8613.000000</td>\n",
              "      <td>8618.000000</td>\n",
              "      <td>8618.000000</td>\n",
              "      <td>8618.000000</td>\n",
              "      <td>8618.000000</td>\n",
              "      <td>8618.000000</td>\n",
              "    </tr>\n",
              "    <tr>\n",
              "      <th>mean</th>\n",
              "      <td>26.405434</td>\n",
              "      <td>2005.978881</td>\n",
              "      <td>0.364702</td>\n",
              "      <td>0.363309</td>\n",
              "      <td>0.377698</td>\n",
              "      <td>1.105709</td>\n",
              "    </tr>\n",
              "    <tr>\n",
              "      <th>std</th>\n",
              "      <td>5.102118</td>\n",
              "      <td>4.289946</td>\n",
              "      <td>0.545349</td>\n",
              "      <td>0.511613</td>\n",
              "      <td>0.505005</td>\n",
              "      <td>0.408892</td>\n",
              "    </tr>\n",
              "    <tr>\n",
              "      <th>min</th>\n",
              "      <td>15.000000</td>\n",
              "      <td>2000.000000</td>\n",
              "      <td>0.000000</td>\n",
              "      <td>0.000000</td>\n",
              "      <td>0.000000</td>\n",
              "      <td>1.000000</td>\n",
              "    </tr>\n",
              "    <tr>\n",
              "      <th>25%</th>\n",
              "      <td>23.000000</td>\n",
              "      <td>2002.000000</td>\n",
              "      <td>0.000000</td>\n",
              "      <td>0.000000</td>\n",
              "      <td>0.000000</td>\n",
              "      <td>1.000000</td>\n",
              "    </tr>\n",
              "    <tr>\n",
              "      <th>50%</th>\n",
              "      <td>26.000000</td>\n",
              "      <td>2006.000000</td>\n",
              "      <td>0.000000</td>\n",
              "      <td>0.000000</td>\n",
              "      <td>0.000000</td>\n",
              "      <td>1.000000</td>\n",
              "    </tr>\n",
              "    <tr>\n",
              "      <th>75%</th>\n",
              "      <td>29.000000</td>\n",
              "      <td>2010.000000</td>\n",
              "      <td>1.000000</td>\n",
              "      <td>1.000000</td>\n",
              "      <td>1.000000</td>\n",
              "      <td>1.000000</td>\n",
              "    </tr>\n",
              "    <tr>\n",
              "      <th>max</th>\n",
              "      <td>61.000000</td>\n",
              "      <td>2012.000000</td>\n",
              "      <td>8.000000</td>\n",
              "      <td>3.000000</td>\n",
              "      <td>3.000000</td>\n",
              "      <td>8.000000</td>\n",
              "    </tr>\n",
              "  </tbody>\n",
              "</table>\n",
              "</div>\n",
              "      <button class=\"colab-df-convert\" onclick=\"convertToInteractive('df-1e52af32-d9ff-4804-8e5c-50aca9c04d6b')\"\n",
              "              title=\"Convert this dataframe to an interactive table.\"\n",
              "              style=\"display:none;\">\n",
              "        \n",
              "  <svg xmlns=\"http://www.w3.org/2000/svg\" height=\"24px\"viewBox=\"0 0 24 24\"\n",
              "       width=\"24px\">\n",
              "    <path d=\"M0 0h24v24H0V0z\" fill=\"none\"/>\n",
              "    <path d=\"M18.56 5.44l.94 2.06.94-2.06 2.06-.94-2.06-.94-.94-2.06-.94 2.06-2.06.94zm-11 1L8.5 8.5l.94-2.06 2.06-.94-2.06-.94L8.5 2.5l-.94 2.06-2.06.94zm10 10l.94 2.06.94-2.06 2.06-.94-2.06-.94-.94-2.06-.94 2.06-2.06.94z\"/><path d=\"M17.41 7.96l-1.37-1.37c-.4-.4-.92-.59-1.43-.59-.52 0-1.04.2-1.43.59L10.3 9.45l-7.72 7.72c-.78.78-.78 2.05 0 2.83L4 21.41c.39.39.9.59 1.41.59.51 0 1.02-.2 1.41-.59l7.78-7.78 2.81-2.81c.8-.78.8-2.07 0-2.86zM5.41 20L4 18.59l7.72-7.72 1.47 1.35L5.41 20z\"/>\n",
              "  </svg>\n",
              "      </button>\n",
              "      \n",
              "  <style>\n",
              "    .colab-df-container {\n",
              "      display:flex;\n",
              "      flex-wrap:wrap;\n",
              "      gap: 12px;\n",
              "    }\n",
              "\n",
              "    .colab-df-convert {\n",
              "      background-color: #E8F0FE;\n",
              "      border: none;\n",
              "      border-radius: 50%;\n",
              "      cursor: pointer;\n",
              "      display: none;\n",
              "      fill: #1967D2;\n",
              "      height: 32px;\n",
              "      padding: 0 0 0 0;\n",
              "      width: 32px;\n",
              "    }\n",
              "\n",
              "    .colab-df-convert:hover {\n",
              "      background-color: #E2EBFA;\n",
              "      box-shadow: 0px 1px 2px rgba(60, 64, 67, 0.3), 0px 1px 3px 1px rgba(60, 64, 67, 0.15);\n",
              "      fill: #174EA6;\n",
              "    }\n",
              "\n",
              "    [theme=dark] .colab-df-convert {\n",
              "      background-color: #3B4455;\n",
              "      fill: #D2E3FC;\n",
              "    }\n",
              "\n",
              "    [theme=dark] .colab-df-convert:hover {\n",
              "      background-color: #434B5C;\n",
              "      box-shadow: 0px 1px 3px 1px rgba(0, 0, 0, 0.15);\n",
              "      filter: drop-shadow(0px 1px 2px rgba(0, 0, 0, 0.3));\n",
              "      fill: #FFFFFF;\n",
              "    }\n",
              "  </style>\n",
              "\n",
              "      <script>\n",
              "        const buttonEl =\n",
              "          document.querySelector('#df-1e52af32-d9ff-4804-8e5c-50aca9c04d6b button.colab-df-convert');\n",
              "        buttonEl.style.display =\n",
              "          google.colab.kernel.accessAllowed ? 'block' : 'none';\n",
              "\n",
              "        async function convertToInteractive(key) {\n",
              "          const element = document.querySelector('#df-1e52af32-d9ff-4804-8e5c-50aca9c04d6b');\n",
              "          const dataTable =\n",
              "            await google.colab.kernel.invokeFunction('convertToInteractive',\n",
              "                                                     [key], {});\n",
              "          if (!dataTable) return;\n",
              "\n",
              "          const docLinkHtml = 'Like what you see? Visit the ' +\n",
              "            '<a target=\"_blank\" href=https://colab.research.google.com/notebooks/data_table.ipynb>data table notebook</a>'\n",
              "            + ' to learn more about interactive tables.';\n",
              "          element.innerHTML = '';\n",
              "          dataTable['output_type'] = 'display_data';\n",
              "          await google.colab.output.renderOutput(dataTable, element);\n",
              "          const docLink = document.createElement('div');\n",
              "          docLink.innerHTML = docLinkHtml;\n",
              "          element.appendChild(docLink);\n",
              "        }\n",
              "      </script>\n",
              "    </div>\n",
              "  </div>\n",
              "  "
            ]
          },
          "metadata": {},
          "execution_count": 141
        }
      ],
      "source": [
        "df.describe() #geting all numerical measures details"
      ]
    },
    {
      "cell_type": "markdown",
      "metadata": {
        "id": "4czW4Debdt8E"
      },
      "source": [
        "From above, we can see the max age is 61 and min is 15 for the athlete and the max medal won by the Athlete is 8."
      ]
    },
    {
      "cell_type": "markdown",
      "source": [
        "Conclusion:- The describe() method is used for calculating some statistical data like percentile, mean and std of the numerical values of the Series or DataFrame. It analyzes both numeric and object series and also the DataFrame column sets of mixed data types.\n",
        "\n",
        "So we have used describe function to get all the statistical measures in one attempt. \n",
        "\n",
        "We have also used the function to get mean, median, mode and standard deviation of the provided columns.\n",
        "\n",
        "The explaination of function used to get the statistical measures are as follows:\n",
        "\n",
        "mean() This function calculates the arithmetic mean or average value of sample data in sequence or iterator. We have got the mean value for the column Count.\n",
        "\n",
        "median () This function calculates middle value of thearithmetic data in iterative order. \n",
        "\n",
        "mode() This function return the most common data point from discrete or nominal data or number with maximum number of occurrences.\n",
        "\n",
        "Quartiles − The most common percentile other than the median are quartiles. The first quartile indicated by Q1 is the 25th percentile, the third quartile indicated by Q3 is the 75th percentile. The quartiles containing the median, provide some indication of the center, spread, and shape of a quartile is a simple measure of spread that provides the range covered by the middle half of the data. This is known as the interquartile range (IQR) and is defined as −\n",
        "\n",
        "IQR=Q3−Q1\n",
        "\n",
        "Standard deviation − When the deviate values are squared in variance, their unit of measure is squared also."
      ],
      "metadata": {
        "id": "rmV0bipvSROy"
      }
    },
    {
      "cell_type": "markdown",
      "metadata": {
        "id": "PWsfJCh2qNLU"
      },
      "source": [
        "**Please list the top 10 countries with the gold medal, then the top10 countries with the silver medal, then the bronze medal and the total medal.**"
      ]
    },
    {
      "cell_type": "code",
      "execution_count": 142,
      "metadata": {
        "colab": {
          "base_uri": "https://localhost:8080/"
        },
        "id": "ml67BWNLqHzu",
        "outputId": "3a217720-df7f-4dcd-e9b1-b58b2b6e94c0"
      },
      "outputs": [
        {
          "output_type": "stream",
          "name": "stdout",
          "text": [
            "country\n",
            "United States    552\n",
            "Russia           234\n",
            "China            234\n",
            "Germany          223\n",
            "Canada           168\n",
            "Australia        163\n",
            "Great Britain    124\n",
            "South Korea      110\n",
            "France           108\n",
            "Netherlands      101\n",
            "Name: gold_medal, dtype: int64\n"
          ]
        }
      ],
      "source": [
        "#grouping the country, aggregating the sum of gold medal attribute and sorting in descending order to get top 10.\n",
        "#displaying top 10 results\n",
        "\n",
        "gold = df.groupby(['country'])['gold_medal'].sum().sort_values(ascending=False).head(10)\n",
        "print(gold)\n"
      ]
    },
    {
      "cell_type": "markdown",
      "source": [
        "From above, we can see US is on top for Gold Medal with 552,followed by Russia with 234 medals."
      ],
      "metadata": {
        "id": "IGsmnm0_Wlf0"
      }
    },
    {
      "cell_type": "code",
      "execution_count": 143,
      "metadata": {
        "colab": {
          "base_uri": "https://localhost:8080/"
        },
        "id": "lP7DYi0wslCy",
        "outputId": "cd0dd24c-d775-4c8e-e6cb-144b8f55a964"
      },
      "outputs": [
        {
          "output_type": "stream",
          "name": "stdout",
          "text": [
            "country\n",
            "United States    440\n",
            "Australia        226\n",
            "Russia           221\n",
            "Germany          183\n",
            "China            156\n",
            "Netherlands      135\n",
            "Spain            116\n",
            "Japan            112\n",
            "France           107\n",
            "Italy            103\n",
            "Name: silver_medal, dtype: int64\n"
          ]
        }
      ],
      "source": [
        "#grouping the country, aggregating the sum of silver medal attribute and sorting in descending order to get top 10.\n",
        "#displaying top 10 results\n",
        "\n",
        "silver = df.groupby(['country'])['silver_medal'].sum().sort_values(ascending=False).head(10)\n",
        "print(silver)"
      ]
    },
    {
      "cell_type": "markdown",
      "source": [
        "From above we can see US is on top for silver medal with 440 medals, followed by Australia with 226."
      ],
      "metadata": {
        "id": "GOgVVPQ8WwkP"
      }
    },
    {
      "cell_type": "code",
      "execution_count": 144,
      "metadata": {
        "colab": {
          "base_uri": "https://localhost:8080/"
        },
        "id": "tvlj0lrjssgX",
        "outputId": "df13275c-5897-484e-e3a6-4b78b5cad3ed"
      },
      "outputs": [
        {
          "output_type": "stream",
          "name": "stdout",
          "text": [
            "country\n",
            "United States    320\n",
            "Russia           313\n",
            "Germany          223\n",
            "Australia        220\n",
            "Italy            142\n",
            "China            140\n",
            "Japan            113\n",
            "South Korea      105\n",
            "Canada           104\n",
            "France           103\n",
            "Name: brone_medal, dtype: int64\n"
          ]
        }
      ],
      "source": [
        "#grouping the country, aggregating the bronze of gold medal attribute and sorting in descending order to get top 10.\n",
        "#displaying top 10 results\n",
        "\n",
        "bronze = df.groupby(['country'])['brone_medal'].sum().sort_values(ascending=False).head(10)\n",
        "print(bronze)"
      ]
    },
    {
      "cell_type": "markdown",
      "source": [
        "From above, we can see US is on top with 320, followed by Russia wih 313 medals in bronze."
      ],
      "metadata": {
        "id": "XKEk313CW5oD"
      }
    },
    {
      "cell_type": "code",
      "execution_count": 145,
      "metadata": {
        "colab": {
          "base_uri": "https://localhost:8080/"
        },
        "id": "n97sQkFKsySB",
        "outputId": "9dddbe84-b7f5-45c1-b8b6-e7c505fb18c8"
      },
      "outputs": [
        {
          "output_type": "stream",
          "name": "stdout",
          "text": [
            "country\n",
            "United States    1312\n",
            "Russia            768\n",
            "Germany           629\n",
            "Australia         609\n",
            "China             530\n",
            "Canada            370\n",
            "Italy             331\n",
            "Great Britain     322\n",
            "France            318\n",
            "Netherlands       318\n",
            "Name: total_medal, dtype: int64\n"
          ]
        }
      ],
      "source": [
        "#grouping the country, aggregating the sum of total medal attribute and sorting in descending order to get top 10.\n",
        "#displaying top 10 results\n",
        "\n",
        "total_medal = df.groupby(['country'])['total_medal'].sum().sort_values(ascending=False).head(10)\n",
        "print(total_medal)"
      ]
    },
    {
      "cell_type": "markdown",
      "source": [
        "**Conclusion** :- From above we can clearly see that United states is on top for all medals(gold, silver and bronze) with total medals of 1312 and Russia is on 2nd position which is almost half of US medals with the count of 768."
      ],
      "metadata": {
        "id": "EqOAWmlFU4nV"
      }
    },
    {
      "cell_type": "markdown",
      "source": [
        "# **PySpark**"
      ],
      "metadata": {
        "id": "iWpukvcgXhak"
      }
    },
    {
      "cell_type": "markdown",
      "metadata": {
        "id": "LuSShEyk9gwm"
      },
      "source": [
        "**Write PySpark code to read the olympix_data.csv file**\n",
        "\n",
        "\n",
        "\n"
      ]
    },
    {
      "cell_type": "code",
      "execution_count": 146,
      "metadata": {
        "id": "C_6dnoxQ9nSb",
        "colab": {
          "base_uri": "https://localhost:8080/"
        },
        "outputId": "60ff752a-96db-4403-9391-f6471ceb2b0d"
      },
      "outputs": [
        {
          "output_type": "stream",
          "name": "stdout",
          "text": [
            "Looking in indexes: https://pypi.org/simple, https://us-python.pkg.dev/colab-wheels/public/simple/\n",
            "Requirement already satisfied: pyspark in /usr/local/lib/python3.7/dist-packages (3.3.0)\n",
            "Requirement already satisfied: py4j==0.10.9.5 in /usr/local/lib/python3.7/dist-packages (from pyspark) (0.10.9.5)\n"
          ]
        }
      ],
      "source": [
        "pip install pyspark "
      ]
    },
    {
      "cell_type": "code",
      "execution_count": 147,
      "metadata": {
        "id": "_DpVVcMb906r",
        "colab": {
          "base_uri": "https://localhost:8080/"
        },
        "outputId": "b5d9268e-c3b4-459d-cbb8-9e99b0d8595d"
      },
      "outputs": [
        {
          "output_type": "stream",
          "name": "stderr",
          "text": [
            "/usr/local/lib/python3.7/dist-packages/pyspark/sql/context.py:114: FutureWarning: Deprecated in 3.0.0. Use SparkSession.builder.getOrCreate() instead.\n",
            "  FutureWarning,\n"
          ]
        }
      ],
      "source": [
        "#Initializing PySpark\n",
        "from pyspark import SparkContext, SparkConf\n",
        "from pyspark.sql import SparkSession\n",
        "from pyspark.sql import SQLContext\n",
        "# #Spark Config\n",
        "conf = SparkConf().setAppName(\"sample_app\")\n",
        "sc = SparkContext(conf=conf)\n",
        "spark = SparkSession.builder.appName('Test').getOrCreate()\n",
        "sqlContext = SQLContext(sc)"
      ]
    },
    {
      "cell_type": "code",
      "execution_count": 148,
      "metadata": {
        "id": "4d_X38Hg99ed"
      },
      "outputs": [],
      "source": [
        "from pyspark.sql.functions import udf,col #importing pyspark function to perform sql tasks.\n",
        "\n",
        "#loading csv file.\n",
        "df = spark.read.format(\"csv\").option(\"header\", \"true\").option(\"inferSchema\",\"true\").load(\"/content/olympix_data_organized_with_header (1) (1).csv\")"
      ]
    },
    {
      "cell_type": "code",
      "execution_count": 149,
      "metadata": {
        "id": "o_T2rWxR-FPT",
        "colab": {
          "base_uri": "https://localhost:8080/"
        },
        "outputId": "0c17d2f5-182d-49eb-f44b-fc0072699015"
      },
      "outputs": [
        {
          "output_type": "stream",
          "name": "stdout",
          "text": [
            "+----------------+---+-------------+----+----------+----------+----------+------------+-----------+-----------+\n",
            "|            name|age|      country|year|Date_Given|    sports|gold_medal|silver_medal|brone_medal|total_medal|\n",
            "+----------------+---+-------------+----+----------+----------+----------+------------+-----------+-----------+\n",
            "|  Michael Phelps| 23|United States|2008| 8/24/2008|  Swimming|         8|           0|          0|          8|\n",
            "|  Michael Phelps| 19|United States|2004| 8/29/2004|  Swimming|         6|           0|          2|          8|\n",
            "|  Michael Phelps| 27|United States|2012|08-12-2012|  Swimming|         4|           2|          0|          6|\n",
            "|Natalie Coughlin| 25|United States|2008| 8/24/2008|  Swimming|         1|           2|          3|          6|\n",
            "|   Aleksey Nemov| 24|       Russia|2000|10-01-2000|Gymnastics|         2|           1|          3|          6|\n",
            "+----------------+---+-------------+----+----------+----------+----------+------------+-----------+-----------+\n",
            "only showing top 5 rows\n",
            "\n"
          ]
        }
      ],
      "source": [
        "df.show(5) #displaying top 5 results"
      ]
    },
    {
      "cell_type": "markdown",
      "source": [
        "From above, we have successfully loaded the CSV file and displayed the result using Pyspark."
      ],
      "metadata": {
        "id": "WoClOlVqqmqu"
      }
    },
    {
      "cell_type": "markdown",
      "metadata": {
        "id": "huZpa06X-Lah"
      },
      "source": [
        "**Write PySpark code to print the Olympic Sports/games in the dataset**"
      ]
    },
    {
      "cell_type": "code",
      "execution_count": 150,
      "metadata": {
        "id": "uZJAzYvR-IOZ",
        "colab": {
          "base_uri": "https://localhost:8080/"
        },
        "outputId": "65a1d32d-05fa-449a-8dc2-e93c28417984"
      },
      "outputs": [
        {
          "output_type": "stream",
          "name": "stdout",
          "text": [
            "+--------------------+\n",
            "|              sports|\n",
            "+--------------------+\n",
            "|          Gymnastics|\n",
            "|              Tennis|\n",
            "|              Boxing|\n",
            "|Short-Track Speed...|\n",
            "|          Ice Hockey|\n",
            "|              Rowing|\n",
            "|                Judo|\n",
            "|            Softball|\n",
            "|             Sailing|\n",
            "|            Swimming|\n",
            "|       Alpine Skiing|\n",
            "|          Basketball|\n",
            "|            Handball|\n",
            "| Rhythmic Gymnastics|\n",
            "|            Biathlon|\n",
            "|           Triathlon|\n",
            "|           Badminton|\n",
            "|           Athletics|\n",
            "|      Figure Skating|\n",
            "|    Beach Volleyball|\n",
            "|          Equestrian|\n",
            "|            Shooting|\n",
            "|              Diving|\n",
            "|            Skeleton|\n",
            "|         Ski Jumping|\n",
            "|     Nordic Combined|\n",
            "|           Wrestling|\n",
            "|       Speed Skating|\n",
            "|        Table Tennis|\n",
            "|           Taekwondo|\n",
            "|            Canoeing|\n",
            "|       Weightlifting|\n",
            "|           Waterpolo|\n",
            "|            Baseball|\n",
            "|   Modern Pentathlon|\n",
            "|        Snowboarding|\n",
            "|           Bobsleigh|\n",
            "|             Cycling|\n",
            "|Cross Country Skiing|\n",
            "|          Volleyball|\n",
            "|             Archery|\n",
            "|Synchronized Swim...|\n",
            "|             Curling|\n",
            "|             Fencing|\n",
            "|              Hockey|\n",
            "|    Freestyle Skiing|\n",
            "|            Football|\n",
            "|                Luge|\n",
            "|          Trampoline|\n",
            "+--------------------+\n",
            "\n"
          ]
        }
      ],
      "source": [
        "#creating temporary table using SQL functions\n",
        "df.createOrReplaceTempView(\"table1\")\n",
        "\n",
        "#getting sql query to get count of distinct sports/games in dataset\n",
        "res1 = spark.sql(\"select distinct(sports) from table1\")\n",
        "\n",
        "#displaying the output\n",
        "res1.show(50)"
      ]
    },
    {
      "cell_type": "markdown",
      "source": [
        "From above, we have successfully coded to get the names of Sports/games being playe in Olympics."
      ],
      "metadata": {
        "id": "H4GF_xytq04k"
      }
    },
    {
      "cell_type": "markdown",
      "metadata": {
        "id": "b2EXlU_5_i1v"
      },
      "source": [
        "**Write PySpark code to plot the total number of medals in  each Olympic Sport/game**\n"
      ]
    },
    {
      "cell_type": "code",
      "execution_count": 172,
      "metadata": {
        "id": "YDab6wAjASPC",
        "colab": {
          "base_uri": "https://localhost:8080/",
          "height": 416
        },
        "outputId": "48a73983-e4f1-4de5-bb92-db9d5e8259ba"
      },
      "outputs": [
        {
          "output_type": "display_data",
          "data": {
            "text/plain": [
              "<Figure size 432x288 with 1 Axes>"
            ],
            "image/png": "[encoded data removed]"
          },
          "metadata": {
            "needs_background": "light"
          }
        }
      ],
      "source": [
        "import matplotlib.pyplot as plot #importing library to get the plot\n",
        "res = df.groupBy(\"sports\").agg({\"total_medal\":\"sum\"}) #grouping the data for sports and gettibng sum of total medals.\n",
        "\n",
        "\n",
        "res = res.withColumnRenamed(\"sum(total_medal)\",\"total_medal\")\n",
        "get_Pandas_DF = res.toPandas() # we can use toPandas() for converting pyspark dataframe to Pandas dataframe\n",
        "\n",
        "\n",
        "get_Pandas_DF.plot.bar(x=\"sports\",y=\"total_medal\",title=\"the number of medals vs sports\",width = 1) #plotting graph\n",
        "plot.show()"
      ]
    },
    {
      "cell_type": "code",
      "source": [
        "get_Pandas_DF.head(20)"
      ],
      "metadata": {
        "colab": {
          "base_uri": "https://localhost:8080/",
          "height": 676
        },
        "id": "IGL6CblHssrS",
        "outputId": "53b9a7c5-e5d2-48b9-c4cf-f19139661976"
      },
      "execution_count": 177,
      "outputs": [
        {
          "output_type": "execute_result",
          "data": {
            "text/plain": [
              "                       sports  total_medal\n",
              "0                  Gymnastics          282\n",
              "1                      Tennis           78\n",
              "2                      Boxing          188\n",
              "3   Short-Track Speed Skating          138\n",
              "4                  Ice Hockey          384\n",
              "5                      Rowing          576\n",
              "6                        Judo          224\n",
              "7                    Softball          134\n",
              "8                     Sailing          210\n",
              "9                    Swimming          765\n",
              "10              Alpine Skiing           90\n",
              "11                 Basketball          287\n",
              "12                   Handball          351\n",
              "13        Rhythmic Gymnastics           84\n",
              "14                   Biathlon          138\n",
              "15                  Triathlon           24\n",
              "16                  Badminton           96\n",
              "17                  Athletics          753\n",
              "18             Figure Skating           54\n",
              "19           Beach Volleyball           48"
            ],
            "text/html": [
              "\n",
              "  <div id=\"df-3ae95d48-f4d9-41bb-8522-643f24135963\">\n",
              "    <div class=\"colab-df-container\">\n",
              "      <div>\n",
              "<style scoped>\n",
              "    .dataframe tbody tr th:only-of-type {\n",
              "        vertical-align: middle;\n",
              "    }\n",
              "\n",
              "    .dataframe tbody tr th {\n",
              "        vertical-align: top;\n",
              "    }\n",
              "\n",
              "    .dataframe thead th {\n",
              "        text-align: right;\n",
              "    }\n",
              "</style>\n",
              "<table border=\"1\" class=\"dataframe\">\n",
              "  <thead>\n",
              "    <tr style=\"text-align: right;\">\n",
              "      <th></th>\n",
              "      <th>sports</th>\n",
              "      <th>total_medal</th>\n",
              "    </tr>\n",
              "  </thead>\n",
              "  <tbody>\n",
              "    <tr>\n",
              "      <th>0</th>\n",
              "      <td>Gymnastics</td>\n",
              "      <td>282</td>\n",
              "    </tr>\n",
              "    <tr>\n",
              "      <th>1</th>\n",
              "      <td>Tennis</td>\n",
              "      <td>78</td>\n",
              "    </tr>\n",
              "    <tr>\n",
              "      <th>2</th>\n",
              "      <td>Boxing</td>\n",
              "      <td>188</td>\n",
              "    </tr>\n",
              "    <tr>\n",
              "      <th>3</th>\n",
              "      <td>Short-Track Speed Skating</td>\n",
              "      <td>138</td>\n",
              "    </tr>\n",
              "    <tr>\n",
              "      <th>4</th>\n",
              "      <td>Ice Hockey</td>\n",
              "      <td>384</td>\n",
              "    </tr>\n",
              "    <tr>\n",
              "      <th>5</th>\n",
              "      <td>Rowing</td>\n",
              "      <td>576</td>\n",
              "    </tr>\n",
              "    <tr>\n",
              "      <th>6</th>\n",
              "      <td>Judo</td>\n",
              "      <td>224</td>\n",
              "    </tr>\n",
              "    <tr>\n",
              "      <th>7</th>\n",
              "      <td>Softball</td>\n",
              "      <td>134</td>\n",
              "    </tr>\n",
              "    <tr>\n",
              "      <th>8</th>\n",
              "      <td>Sailing</td>\n",
              "      <td>210</td>\n",
              "    </tr>\n",
              "    <tr>\n",
              "      <th>9</th>\n",
              "      <td>Swimming</td>\n",
              "      <td>765</td>\n",
              "    </tr>\n",
              "    <tr>\n",
              "      <th>10</th>\n",
              "      <td>Alpine Skiing</td>\n",
              "      <td>90</td>\n",
              "    </tr>\n",
              "    <tr>\n",
              "      <th>11</th>\n",
              "      <td>Basketball</td>\n",
              "      <td>287</td>\n",
              "    </tr>\n",
              "    <tr>\n",
              "      <th>12</th>\n",
              "      <td>Handball</td>\n",
              "      <td>351</td>\n",
              "    </tr>\n",
              "    <tr>\n",
              "      <th>13</th>\n",
              "      <td>Rhythmic Gymnastics</td>\n",
              "      <td>84</td>\n",
              "    </tr>\n",
              "    <tr>\n",
              "      <th>14</th>\n",
              "      <td>Biathlon</td>\n",
              "      <td>138</td>\n",
              "    </tr>\n",
              "    <tr>\n",
              "      <th>15</th>\n",
              "      <td>Triathlon</td>\n",
              "      <td>24</td>\n",
              "    </tr>\n",
              "    <tr>\n",
              "      <th>16</th>\n",
              "      <td>Badminton</td>\n",
              "      <td>96</td>\n",
              "    </tr>\n",
              "    <tr>\n",
              "      <th>17</th>\n",
              "      <td>Athletics</td>\n",
              "      <td>753</td>\n",
              "    </tr>\n",
              "    <tr>\n",
              "      <th>18</th>\n",
              "      <td>Figure Skating</td>\n",
              "      <td>54</td>\n",
              "    </tr>\n",
              "    <tr>\n",
              "      <th>19</th>\n",
              "      <td>Beach Volleyball</td>\n",
              "      <td>48</td>\n",
              "    </tr>\n",
              "  </tbody>\n",
              "</table>\n",
              "</div>\n",
              "      <button class=\"colab-df-convert\" onclick=\"convertToInteractive('df-3ae95d48-f4d9-41bb-8522-643f24135963')\"\n",
              "              title=\"Convert this dataframe to an interactive table.\"\n",
              "              style=\"display:none;\">\n",
              "        \n",
              "  <svg xmlns=\"http://www.w3.org/2000/svg\" height=\"24px\"viewBox=\"0 0 24 24\"\n",
              "       width=\"24px\">\n",
              "    <path d=\"M0 0h24v24H0V0z\" fill=\"none\"/>\n",
              "    <path d=\"M18.56 5.44l.94 2.06.94-2.06 2.06-.94-2.06-.94-.94-2.06-.94 2.06-2.06.94zm-11 1L8.5 8.5l.94-2.06 2.06-.94-2.06-.94L8.5 2.5l-.94 2.06-2.06.94zm10 10l.94 2.06.94-2.06 2.06-.94-2.06-.94-.94-2.06-.94 2.06-2.06.94z\"/><path d=\"M17.41 7.96l-1.37-1.37c-.4-.4-.92-.59-1.43-.59-.52 0-1.04.2-1.43.59L10.3 9.45l-7.72 7.72c-.78.78-.78 2.05 0 2.83L4 21.41c.39.39.9.59 1.41.59.51 0 1.02-.2 1.41-.59l7.78-7.78 2.81-2.81c.8-.78.8-2.07 0-2.86zM5.41 20L4 18.59l7.72-7.72 1.47 1.35L5.41 20z\"/>\n",
              "  </svg>\n",
              "      </button>\n",
              "      \n",
              "  <style>\n",
              "    .colab-df-container {\n",
              "      display:flex;\n",
              "      flex-wrap:wrap;\n",
              "      gap: 12px;\n",
              "    }\n",
              "\n",
              "    .colab-df-convert {\n",
              "      background-color: #E8F0FE;\n",
              "      border: none;\n",
              "      border-radius: 50%;\n",
              "      cursor: pointer;\n",
              "      display: none;\n",
              "      fill: #1967D2;\n",
              "      height: 32px;\n",
              "      padding: 0 0 0 0;\n",
              "      width: 32px;\n",
              "    }\n",
              "\n",
              "    .colab-df-convert:hover {\n",
              "      background-color: #E2EBFA;\n",
              "      box-shadow: 0px 1px 2px rgba(60, 64, 67, 0.3), 0px 1px 3px 1px rgba(60, 64, 67, 0.15);\n",
              "      fill: #174EA6;\n",
              "    }\n",
              "\n",
              "    [theme=dark] .colab-df-convert {\n",
              "      background-color: #3B4455;\n",
              "      fill: #D2E3FC;\n",
              "    }\n",
              "\n",
              "    [theme=dark] .colab-df-convert:hover {\n",
              "      background-color: #434B5C;\n",
              "      box-shadow: 0px 1px 3px 1px rgba(0, 0, 0, 0.15);\n",
              "      filter: drop-shadow(0px 1px 2px rgba(0, 0, 0, 0.3));\n",
              "      fill: #FFFFFF;\n",
              "    }\n",
              "  </style>\n",
              "\n",
              "      <script>\n",
              "        const buttonEl =\n",
              "          document.querySelector('#df-3ae95d48-f4d9-41bb-8522-643f24135963 button.colab-df-convert');\n",
              "        buttonEl.style.display =\n",
              "          google.colab.kernel.accessAllowed ? 'block' : 'none';\n",
              "\n",
              "        async function convertToInteractive(key) {\n",
              "          const element = document.querySelector('#df-3ae95d48-f4d9-41bb-8522-643f24135963');\n",
              "          const dataTable =\n",
              "            await google.colab.kernel.invokeFunction('convertToInteractive',\n",
              "                                                     [key], {});\n",
              "          if (!dataTable) return;\n",
              "\n",
              "          const docLinkHtml = 'Like what you see? Visit the ' +\n",
              "            '<a target=\"_blank\" href=https://colab.research.google.com/notebooks/data_table.ipynb>data table notebook</a>'\n",
              "            + ' to learn more about interactive tables.';\n",
              "          element.innerHTML = '';\n",
              "          dataTable['output_type'] = 'display_data';\n",
              "          await google.colab.output.renderOutput(dataTable, element);\n",
              "          const docLink = document.createElement('div');\n",
              "          docLink.innerHTML = docLinkHtml;\n",
              "          element.appendChild(docLink);\n",
              "        }\n",
              "      </script>\n",
              "    </div>\n",
              "  </div>\n",
              "  "
            ]
          },
          "metadata": {},
          "execution_count": 177
        }
      ]
    },
    {
      "cell_type": "markdown",
      "source": [
        "**Conclusion** :- From above, we have get the the plot of the sports as per the medals and we can clearly see that the Athletics is the most popular sports and the total medal given for this sports was 687 and the Skeleton has lowest number of medals of count 18"
      ],
      "metadata": {
        "id": "DCdr8_2outLR"
      }
    },
    {
      "cell_type": "markdown",
      "metadata": {
        "id": "PFPKu6aJCS4A"
      },
      "source": [
        "**Sort the result based on the total number of medals.**"
      ]
    },
    {
      "cell_type": "code",
      "execution_count": 179,
      "metadata": {
        "id": "lsE8WO-EDMoR",
        "colab": {
          "base_uri": "https://localhost:8080/"
        },
        "outputId": "504ab37f-7c97-4739-fda8-5df1526718dc"
      },
      "outputs": [
        {
          "output_type": "stream",
          "name": "stdout",
          "text": [
            "+----------------+---+-------------+----+----------+----------+----------+------------+-----------+-----------+\n",
            "|            name|age|      country|year|Date_Given|    sports|gold_medal|silver_medal|brone_medal|total_medal|\n",
            "+----------------+---+-------------+----+----------+----------+----------+------------+-----------+-----------+\n",
            "|  Michael Phelps| 19|United States|2004| 8/29/2004|  Swimming|         6|           0|          2|          8|\n",
            "|  Michael Phelps| 23|United States|2008| 8/24/2008|  Swimming|         8|           0|          0|          8|\n",
            "|Natalie Coughlin| 25|United States|2008| 8/24/2008|  Swimming|         1|           2|          3|          6|\n",
            "|  Michael Phelps| 27|United States|2012|08-12-2012|  Swimming|         4|           2|          0|          6|\n",
            "|   Aleksey Nemov| 24|       Russia|2000|10-01-2000|Gymnastics|         2|           1|          3|          6|\n",
            "+----------------+---+-------------+----+----------+----------+----------+------------+-----------+-----------+\n",
            "only showing top 5 rows\n",
            "\n"
          ]
        }
      ],
      "source": [
        "#sorting the data based on total medals and displaying top 5 results\n",
        "df.sort(desc(\"total_medal\")).show(5)\n"
      ]
    },
    {
      "cell_type": "markdown",
      "source": [
        "Conclusion:- From above, we have successfully sorted the data as per the total number of medals and we can see Michael Phelps is on Top with 8 medals on year 2004 and 2008."
      ],
      "metadata": {
        "id": "ImdmUkPXwAzv"
      }
    },
    {
      "cell_type": "markdown",
      "metadata": {
        "id": "laNXp014FYEe"
      },
      "source": [
        "**Find the total number of medals won by each country in swimming.**\n"
      ]
    },
    {
      "cell_type": "code",
      "execution_count": 153,
      "metadata": {
        "id": "V8ouOvNhFbLt",
        "colab": {
          "base_uri": "https://localhost:8080/"
        },
        "outputId": "a98a97a4-36a0-436d-888c-e042fa28f6b3"
      },
      "outputs": [
        {
          "output_type": "stream",
          "name": "stdout",
          "text": [
            "+-------------------+----------------+\n",
            "|            country|sum(total_medal)|\n",
            "+-------------------+----------------+\n",
            "|      United States|             267|\n",
            "|          Australia|             163|\n",
            "|        Netherlands|              46|\n",
            "|              Japan|              43|\n",
            "|             France|              39|\n",
            "|              China|              35|\n",
            "|            Germany|              32|\n",
            "|             Russia|              20|\n",
            "|              Italy|              16|\n",
            "|      Great Britain|              11|\n",
            "|       South Africa|              11|\n",
            "|             Sweden|               9|\n",
            "|            Hungary|               9|\n",
            "|             Brazil|               8|\n",
            "|            Ukraine|               7|\n",
            "|           Zimbabwe|               7|\n",
            "|            Romania|               6|\n",
            "|             Canada|               5|\n",
            "|        South Korea|               4|\n",
            "|             Poland|               3|\n",
            "|            Austria|               3|\n",
            "|            Tunisia|               3|\n",
            "|              Spain|               3|\n",
            "|             Norway|               2|\n",
            "|         Costa Rica|               2|\n",
            "|            Belarus|               2|\n",
            "|           Slovakia|               2|\n",
            "|          Argentina|               1|\n",
            "|Trinidad and Tobago|               1|\n",
            "|            Croatia|               1|\n",
            "|           Slovenia|               1|\n",
            "|          Lithuania|               1|\n",
            "|             Serbia|               1|\n",
            "|            Denmark|               1|\n",
            "+-------------------+----------------+\n",
            "\n"
          ]
        }
      ],
      "source": [
        "\n",
        "#importing dependancies\n",
        "\n",
        "from pyspark import SparkConf\n",
        "from pyspark.sql import SparkSession\n",
        "from pyspark.sql.functions import sum, col, desc, asc, count\n",
        "\n",
        "\n",
        "#applying filter to get swimming variables.\n",
        "#grouping by countries and getting sum of total medal\n",
        "\n",
        "x = df.filter(\"sports == 'Swimming'\").groupBy(\"country\").sum(\"total_medal\")\n",
        "#sorting data in descending order\n",
        "#displaying result\n",
        "x.sort(desc(\"sum(total_medal)\")).show(200)\n"
      ]
    },
    {
      "cell_type": "markdown",
      "source": [
        "From above, we have sorted the data to check which country is on top for swimming and we can conclude again United States has received the maximum number of medals in swimming as well."
      ],
      "metadata": {
        "id": "ywa63OcexIRX"
      }
    },
    {
      "cell_type": "markdown",
      "metadata": {
        "id": "sW04ZAKfwi-Q"
      },
      "source": [
        "**Find the total number of medals won by each country in Skeleton.**\n"
      ]
    },
    {
      "cell_type": "code",
      "execution_count": 154,
      "metadata": {
        "id": "ANkJmD-kwnc-",
        "colab": {
          "base_uri": "https://localhost:8080/"
        },
        "outputId": "8aa4637c-613f-41dd-8044-49432aad7d1f"
      },
      "outputs": [
        {
          "output_type": "stream",
          "name": "stdout",
          "text": [
            "+-------------+----------------+\n",
            "|      country|sum(total_medal)|\n",
            "+-------------+----------------+\n",
            "|       Canada|               4|\n",
            "|Great Britain|               3|\n",
            "|  Switzerland|               3|\n",
            "|United States|               3|\n",
            "|      Germany|               2|\n",
            "|       Russia|               1|\n",
            "|      Austria|               1|\n",
            "|       Latvia|               1|\n",
            "+-------------+----------------+\n",
            "\n"
          ]
        }
      ],
      "source": [
        "#applying filter to get swimming variables.\n",
        "#grouping by countries and getting sum of total medal\n",
        "\n",
        "x = df.filter(\"sports == 'Skeleton'\").groupBy(\"country\").sum(\"total_medal\")\n",
        "#sorting data in descending order\n",
        "#displaying result\n",
        "x.sort(desc(\"sum(total_medal)\")).show(20)"
      ]
    },
    {
      "cell_type": "markdown",
      "source": [
        "From above, we can see Canada has won 4 medals in skeleton and only 7 countries are participating in this game. It is the most unpopular sports."
      ],
      "metadata": {
        "id": "JW1sHGtWxewT"
      }
    },
    {
      "cell_type": "markdown",
      "metadata": {
        "id": "curVxOeOw0F0"
      },
      "source": [
        "**Find the number of medals that the US won yearly.**\n"
      ]
    },
    {
      "cell_type": "code",
      "execution_count": 155,
      "metadata": {
        "id": "6JisyQ_cw29p",
        "colab": {
          "base_uri": "https://localhost:8080/"
        },
        "outputId": "9a4102fe-d80f-4c8f-a7e9-6fb7f8c0f88c"
      },
      "outputs": [
        {
          "output_type": "stream",
          "name": "stdout",
          "text": [
            "+----+----------------+\n",
            "|year|sum(total_medal)|\n",
            "+----+----------------+\n",
            "|2008|             317|\n",
            "|2004|             265|\n",
            "|2012|             254|\n",
            "|2000|             243|\n",
            "|2010|              97|\n",
            "|2002|              84|\n",
            "|2006|              52|\n",
            "+----+----------------+\n",
            "\n"
          ]
        }
      ],
      "source": [
        "#getting sum of total medals, grouping it by year and filtering data for United states.\n",
        "\n",
        "y = df.filter(\"country == 'United States'\").groupBy(\"year\").sum(\"total_medal\")\n",
        "#sorting data in descending order\n",
        "#displaying result\n",
        "y.sort(desc(\"sum(total_medal)\")).show(20)"
      ]
    },
    {
      "cell_type": "markdown",
      "source": [
        "From above, we can see the United States has won maximum medals on year 2008 and lowest medals on 2006 with the medal count of 52\n"
      ],
      "metadata": {
        "id": "BfC4-avDx5X1"
      }
    },
    {
      "cell_type": "markdown",
      "metadata": {
        "id": "6gpwRwb5xLeA"
      },
      "source": [
        "**Find the total number of medals won by each country.**\n"
      ]
    },
    {
      "cell_type": "code",
      "execution_count": 156,
      "metadata": {
        "id": "w8rbGYCgxKxe",
        "colab": {
          "base_uri": "https://localhost:8080/"
        },
        "outputId": "40ee2c9f-37a7-4009-81eb-5b06cb8cb069"
      },
      "outputs": [
        {
          "output_type": "stream",
          "name": "stdout",
          "text": [
            "+-------------+----------------+\n",
            "|      country|sum(total_medal)|\n",
            "+-------------+----------------+\n",
            "|United States|            1312|\n",
            "|       Russia|             768|\n",
            "|      Germany|             629|\n",
            "|    Australia|             609|\n",
            "|        China|             530|\n",
            "|       Canada|             370|\n",
            "|        Italy|             331|\n",
            "|Great Britain|             322|\n",
            "|       France|             318|\n",
            "|  Netherlands|             318|\n",
            "|  South Korea|             308|\n",
            "|        Japan|             282|\n",
            "|       Brazil|             221|\n",
            "|        Spain|             205|\n",
            "|       Norway|             192|\n",
            "|         Cuba|             188|\n",
            "|       Sweden|             181|\n",
            "|      Hungary|             145|\n",
            "|      Ukraine|             143|\n",
            "|    Argentina|             141|\n",
            "+-------------+----------------+\n",
            "only showing top 20 rows\n",
            "\n"
          ]
        }
      ],
      "source": [
        "#getting sum of total medals and grouping it by country\n",
        "\n",
        "z = df.groupBy(\"country\").sum(\"total_medal\")\n",
        "\n",
        "#sorting data in descending order and displaying top 20 results.\n",
        "z.sort(desc(\"sum(total_medal)\")).show(20)"
      ]
    },
    {
      "cell_type": "markdown",
      "source": [
        "From above, we can clearly see that UNited States is leading for medals with total count of 1312 medals."
      ],
      "metadata": {
        "id": "IsTIVz9eyQvo"
      }
    },
    {
      "cell_type": "markdown",
      "metadata": {
        "id": "hZGtXx4XxgyI"
      },
      "source": [
        "**Who was the oldest athlete in the olympics?**"
      ]
    },
    {
      "cell_type": "code",
      "execution_count": 180,
      "metadata": {
        "id": "x_Btd-Ylxkn6",
        "colab": {
          "base_uri": "https://localhost:8080/"
        },
        "outputId": "d3c31f26-766c-4ec6-b275-2b0cc1e36a2f"
      },
      "outputs": [
        {
          "output_type": "stream",
          "name": "stdout",
          "text": [
            "+----------+--------+\n",
            "|      name|max(age)|\n",
            "+----------+--------+\n",
            "|Ian Millar|      61|\n",
            "+----------+--------+\n",
            "only showing top 1 row\n",
            "\n"
          ]
        }
      ],
      "source": [
        "#getting the maximum age and their name\n",
        "#Sorting data in descending and displaying one output\n",
        "\n",
        "old_Ath = df.groupBy('name').max('age')\n",
        "old_Ath.sort(desc(\"max(age)\")).show(1)"
      ]
    },
    {
      "cell_type": "markdown",
      "source": [
        "From above, we can see Ian Miller is the oldest Athlet who plays in Olympics."
      ],
      "metadata": {
        "id": "xR-veGyGyuAH"
      }
    },
    {
      "cell_type": "markdown",
      "metadata": {
        "id": "Mt0Pu2dTzLyo"
      },
      "source": [
        "**Which country was he/she from?**\n"
      ]
    },
    {
      "cell_type": "code",
      "execution_count": 158,
      "metadata": {
        "id": "0ug68QMFzNWi",
        "colab": {
          "base_uri": "https://localhost:8080/"
        },
        "outputId": "7beb6257-70af-440a-a132-4f5e4bb705d7"
      },
      "outputs": [
        {
          "output_type": "stream",
          "name": "stdout",
          "text": [
            "+----------+-------+--------+\n",
            "|      name|country|max(age)|\n",
            "+----------+-------+--------+\n",
            "|Ian Millar| Canada|      61|\n",
            "+----------+-------+--------+\n",
            "only showing top 1 row\n",
            "\n"
          ]
        }
      ],
      "source": [
        "#getting the max age, grouping by name and country.\n",
        "#displaying result\n",
        "\n",
        "old_Ath = df.groupBy('name','country').max('age')\n",
        "old_Ath.sort(desc(\"max(age)\")).show(1)"
      ]
    },
    {
      "cell_type": "markdown",
      "source": [
        "From above, we can see Ian Miller is from Canada and he is the oldest Athlete in Olympics."
      ],
      "metadata": {
        "id": "6Xoi4WZ_zEbG"
      }
    },
    {
      "cell_type": "markdown",
      "source": [
        "## **CONCLUSION :-**\n",
        "\n",
        "\n",
        "The main Objective of this project was to Analyze and visualize the various factors which have\n",
        "contributed in the Evolution of Olympic Games over the years. These type of Analysis are very\n",
        "helpful as this type of Analysis can be performed by any Country or Player which can help them\n",
        "in analyzing their performance so that they can improve their performance by changing their\n",
        "strategies.\n",
        "\n",
        "\n",
        "We selected Python and Pyspark language to\n",
        "implement our work because It is one of the best language suitable for Data Analysis and as the platform where we have preformed this Analysis. \n",
        "\n",
        "As the result of Analysis,\n",
        "we can conclude that It is true that Olympic Games have evolved considerably over the time\n",
        "since 1896 Olympic Games till 2016 Rio Olympics. There are various factors which provides\n",
        "the valid evidence that the Olympics have changed a lot. some of these factors are launch of\n",
        "Winter Olympic Games apart from Summer Olympic Games in 1924, Increase in the number\n",
        "of participating countries in both Summer and Winter Olympics, the \n",
        "Olympics over the time, the Total number of medals won by various participating countries over\n",
        "the years, Apart from these there are many more factors which depicts the Evolution of Olympic\n",
        "Games over the time. Visualization of these factors has been done to explain and validate the\n",
        "Analysis in various Graphical formats like a bar graph and count plots etc\n",
        "\n",
        "\n",
        "**Thank You!**\n"
      ],
      "metadata": {
        "id": "j4VAijIdzL_z"
      }
    }
  ],
  "metadata": {
    "colab": {
      "collapsed_sections": [],
      "name": "Akshata_Nikhare_Capstone Project.ipynb",
      "provenance": []
    },
    "kernelspec": {
      "display_name": "Python 3",
      "name": "python3"
    },
    "language_info": {
      "name": "python"
    }
  },
  "nbformat": 4,
  "nbformat_minor": 0
}